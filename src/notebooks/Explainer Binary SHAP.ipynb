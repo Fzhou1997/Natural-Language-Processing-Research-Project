{
 "cells": [
  {
   "metadata": {},
   "cell_type": "markdown",
   "source": [
    "### About This Explainer\n",
    "\n",
    "Once the sentiment classifier is sufficiently trained, we computed the explainer models to represent each token’s contribution to the overall sentiment classification. We first created a subset of our combined dataset for each prescription medication. We then tokenized each subset using the aforementioned tokenizer. The explainer models then iteratively masks the input tokens and measures classifier output changes to compute each token’s contributions to the overall sentiment classification. This SHAP-based explainer produced a token-contribution matrix for all documents, which were then averaged to create a global token-contribution matrix for each medication."
   ],
   "id": "8f31211d079b9f6d"
  },
  {
   "metadata": {},
   "cell_type": "markdown",
   "source": "### Import Statements",
   "id": "6e2cf2a63c4a429c"
  },
  {
   "cell_type": "code",
   "id": "initial_id",
   "metadata": {
    "collapsed": true,
    "ExecuteTime": {
     "end_time": "2024-04-22T13:35:57.894423Z",
     "start_time": "2024-04-22T13:35:52.985409Z"
    }
   },
   "source": [
    "import torch\n",
    "\n",
    "from src.dataset import ReviewDataset\n",
    "from src.dataloader_raw import ReviewDataLoader\n",
    "from src.tokenizer import Tokenizer\n",
    "from src.classifier_binary import Classifier\n",
    "from src.explainer_binary_shap import Explainer, Explanation"
   ],
   "outputs": [],
   "execution_count": 1
  },
  {
   "metadata": {},
   "cell_type": "markdown",
   "source": "",
   "id": "87ee3a197bb14234"
  },
  {
   "metadata": {},
   "cell_type": "markdown",
   "source": "### Environment Variables",
   "id": "bc8d324c5d5dee18"
  },
  {
   "metadata": {
    "ExecuteTime": {
     "end_time": "2024-04-22T13:35:57.897664Z",
     "start_time": "2024-04-22T13:35:57.895428Z"
    }
   },
   "cell_type": "code",
   "source": [
    "data_path_all = \"../../data/all.csv\"\n",
    "state_dict_path = \"../../models/binary_classifier_model_best.pt\"\n",
    "out_path = \"../../explanations/shap/\"\n",
    "model = \"google-bert/bert-base-uncased\"\n",
    "max_length = 256\n",
    "batch_size = 64"
   ],
   "id": "2e8bcd67d5d2f7f8",
   "outputs": [],
   "execution_count": 2
  },
  {
   "metadata": {},
   "cell_type": "markdown",
   "source": "",
   "id": "e814ee140c47dd5c"
  },
  {
   "metadata": {},
   "cell_type": "markdown",
   "source": "### Load Data",
   "id": "fbf210f6305b09b3"
  },
  {
   "metadata": {
    "ExecuteTime": {
     "end_time": "2024-04-22T13:36:08.087520Z",
     "start_time": "2024-04-22T13:35:57.897664Z"
    }
   },
   "cell_type": "code",
   "source": [
    "dataset_all = ReviewDataset(data_path_all)\n",
    "drug_names = dataset_all.get_drug_names()\n",
    "data_subsets = []\n",
    "for drug_name in drug_names:\n",
    "    data_subsets.append({\n",
    "        \"drug_name\": drug_name,\n",
    "        \"dataset\": dataset_all.get_subset_drug_name(drug_name)\n",
    "    })"
   ],
   "id": "5a7679882d1edb60",
   "outputs": [],
   "execution_count": 3
  },
  {
   "metadata": {},
   "cell_type": "markdown",
   "source": "",
   "id": "dc0fb96a634c6dc1"
  },
  {
   "metadata": {},
   "cell_type": "markdown",
   "source": "### Initialize Tokenizer",
   "id": "eb94c1b774f01f2a"
  },
  {
   "metadata": {
    "ExecuteTime": {
     "end_time": "2024-04-22T13:36:08.601088Z",
     "start_time": "2024-04-22T13:36:08.087520Z"
    }
   },
   "cell_type": "code",
   "source": "tokenizer = Tokenizer(model, max_length)",
   "id": "1c510e15026059f7",
   "outputs": [],
   "execution_count": 4
  },
  {
   "metadata": {},
   "cell_type": "markdown",
   "source": "",
   "id": "e1dcdcdd3b0df0ae"
  },
  {
   "metadata": {},
   "cell_type": "markdown",
   "source": "### Initialize Classifier",
   "id": "cce1e5a139de0660"
  },
  {
   "metadata": {
    "ExecuteTime": {
     "end_time": "2024-04-22T13:36:09.156457Z",
     "start_time": "2024-04-22T13:36:08.601088Z"
    }
   },
   "cell_type": "code",
   "source": [
    "classifier = Classifier(model)\n",
    "classifier.load_state_dict(torch.load(state_dict_path))"
   ],
   "id": "3421336fb71c09d7",
   "outputs": [
    {
     "data": {
      "text/plain": [
       "<All keys matched successfully>"
      ]
     },
     "execution_count": 5,
     "metadata": {},
     "output_type": "execute_result"
    }
   ],
   "execution_count": 5
  },
  {
   "metadata": {},
   "cell_type": "markdown",
   "source": "",
   "id": "ba4072e0ba07fbb2"
  },
  {
   "metadata": {},
   "cell_type": "markdown",
   "source": "### Initialize Explainer",
   "id": "baae9a740a7e4722"
  },
  {
   "metadata": {
    "ExecuteTime": {
     "end_time": "2024-04-22T13:36:11.151230Z",
     "start_time": "2024-04-22T13:36:09.157463Z"
    }
   },
   "cell_type": "code",
   "source": "explainer = Explainer(classifier, tokenizer)",
   "id": "b8e70a546b0d2192",
   "outputs": [
    {
     "name": "stdout",
     "output_type": "stream",
     "text": [
      "WARNING:tensorflow:From C:\\Users\\Zhou\\AppData\\Local\\Programs\\Python\\Python311\\Lib\\site-packages\\tf_keras\\src\\losses.py:2976: The name tf.losses.sparse_softmax_cross_entropy is deprecated. Please use tf.compat.v1.losses.sparse_softmax_cross_entropy instead.\n",
      "\n"
     ]
    }
   ],
   "execution_count": 6
  },
  {
   "metadata": {},
   "cell_type": "markdown",
   "source": "",
   "id": "8b3998dd5e93254a"
  },
  {
   "metadata": {},
   "cell_type": "markdown",
   "source": "### Explain",
   "id": "3945a30b275ac5e4"
  },
  {
   "metadata": {
    "ExecuteTime": {
     "end_time": "2024-04-22T13:38:56.512174Z",
     "start_time": "2024-04-22T13:36:11.152235Z"
    }
   },
   "cell_type": "code",
   "source": [
    "for data_subset in data_subsets:\n",
    "    drug_name = data_subset[\"drug_name\"]\n",
    "    subset = data_subset[\"dataset\"]\n",
    "    dataloader = ReviewDataLoader(subset, batch_size, shuffle=False)\n",
    "    explanation = Explanation()\n",
    "    for batch in dataloader:\n",
    "       explanation = explanation.union(explainer(batch))\n",
    "    explanation.save(f\"{out_path}/explanation_{drug_name}.json\")"
   ],
   "id": "69a9644cfdb7163f",
   "outputs": [
    {
     "name": "stderr",
     "output_type": "stream",
     "text": [
      "PartitionExplainer explainer: 65it [00:47,  1.14it/s]\n",
      "PartitionExplainer explainer: 65it [00:38,  1.21it/s]\n",
      "PartitionExplainer explainer: 65it [00:37,  1.21it/s]\n",
      "PartitionExplainer explainer: 65it [00:37,  1.27it/s]\n"
     ]
    }
   ],
   "execution_count": 7
  },
  {
   "metadata": {},
   "cell_type": "markdown",
   "source": "",
   "id": "38d708ae9ad19cfa"
  },
  {
   "metadata": {},
   "cell_type": "markdown",
   "source": "### Load Explanation",
   "id": "d52f9f3e38fe1ab6"
  },
  {
   "metadata": {
    "ExecuteTime": {
     "end_time": "2024-04-22T13:38:56.521932Z",
     "start_time": "2024-04-22T13:38:56.512174Z"
    }
   },
   "cell_type": "code",
   "source": [
    "drug_name = \"mirtazapine\"\n",
    "explanation = Explanation().load(f\"{out_path}/explanation_{drug_name}.json\")"
   ],
   "id": "ead768ffcab0dd1e",
   "outputs": [],
   "execution_count": 8
  },
  {
   "metadata": {},
   "cell_type": "markdown",
   "source": "",
   "id": "bee4c0e09d565bbd"
  },
  {
   "metadata": {},
   "cell_type": "markdown",
   "source": "### Explore Explanations",
   "id": "aa6de17f4bbb0a2f"
  },
  {
   "metadata": {
    "ExecuteTime": {
     "end_time": "2024-04-22T13:38:56.530164Z",
     "start_time": "2024-04-22T13:38:56.523195Z"
    }
   },
   "cell_type": "code",
   "source": [
    "print(\"Drug name:\", drug_name)\n",
    "print(\"Top positive tokens: \")\n",
    "print(explanation.get_top_positive_tuples(5))\n",
    "print(\"Top negative tokens: \")\n",
    "print(explanation.get_top_negative_tuples(5))"
   ],
   "id": "966a19be7c881500",
   "outputs": [
    {
     "name": "stdout",
     "output_type": "stream",
     "text": [
      "Drug name: mirtazapine\n",
      "Top positive tokens: \n",
      "[('heavenly', 1.4053997348994018), ('Rapid ', 1.3384789258241654), ('Amazing ', 1.3269820536176362), ('Amazing', 1.177428359763733), ('Living ', 1.0788200159448926)]\n",
      "Top negative tokens: \n",
      "[('Cannot ', 1.1529483278397994), ('Otherwise', 1.0125417732964868), ('Causes ', 0.9178164572351508), ('rage', 0.8456822616680644), ('headed ', 0.8075047742161485)]\n"
     ]
    }
   ],
   "execution_count": 9
  },
  {
   "metadata": {},
   "cell_type": "markdown",
   "source": "",
   "id": "d268cd7617c0d8eb"
  },
  {
   "metadata": {},
   "cell_type": "markdown",
   "source": "### Visualize Explanations",
   "id": "1cff3fb6a15bca17"
  },
  {
   "metadata": {
    "ExecuteTime": {
     "end_time": "2024-04-22T13:38:56.667189Z",
     "start_time": "2024-04-22T13:38:56.530164Z"
    }
   },
   "cell_type": "code",
   "source": "explanation.plot_top_tokens(5)",
   "id": "8673573cc7e44e1c",
   "outputs": [
    {
     "data": {
      "text/plain": [
       "<Figure size 800x600 with 1 Axes>"
      ],
      "image/png": "[encoded data removed]"
     },
     "metadata": {},
     "output_type": "display_data"
    }
   ],
   "execution_count": 10
  }
 ],
 "metadata": {
  "kernelspec": {
   "display_name": "Python 3",
   "language": "python",
   "name": "python3"
  },
  "language_info": {
   "codemirror_mode": {
    "name": "ipython",
    "version": 2
   },
   "file_extension": ".py",
   "mimetype": "text/x-python",
   "name": "python",
   "nbconvert_exporter": "python",
   "pygments_lexer": "ipython2",
   "version": "2.7.6"
  }
 },
 "nbformat": 4,
 "nbformat_minor": 5
}
