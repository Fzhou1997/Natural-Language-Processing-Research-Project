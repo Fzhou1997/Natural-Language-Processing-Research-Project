{
 "cells": [
  {
   "metadata": {},
   "cell_type": "markdown",
   "source": [
    "### About This Summarizer\n",
    "\n",
    " The token-contribution matrices from the explainer are combined with a pre-engineer prompt as input for the summarizer model - powered by the Google Gemma 2 billion parameter model - to generate human-readable drug review summaries. The prompt instructs the summarizer model to generate a concise summary of the positives and negatives of a medication using the most positively and negatively salient terms respectively without using bullet points. The final input to the summarizer model consists of the prompt formatted with the prescription medication name, the patient conditions, and the most positively and negatively salient terms."
   ],
   "id": "ebc9c8685ba66d87"
  },
  {
   "metadata": {},
   "cell_type": "markdown",
   "source": "### Import Statements",
   "id": "37e5ad7fff0f875f"
  },
  {
   "cell_type": "code",
   "id": "initial_id",
   "metadata": {
    "collapsed": true,
    "ExecuteTime": {
     "end_time": "2024-04-22T20:27:07.431553Z",
     "start_time": "2024-04-22T20:27:01.543695Z"
    }
   },
   "source": [
    "from src.explainer_binary_shap import Explanation\n",
    "from src.summarizer import Summarizer"
   ],
   "outputs": [],
   "execution_count": 1
  },
  {
   "metadata": {},
   "cell_type": "markdown",
   "source": "",
   "id": "6150e333f97ea91f"
  },
  {
   "metadata": {},
   "cell_type": "markdown",
   "source": "### Environment Variables",
   "id": "69795b8a474a5d22"
  },
  {
   "metadata": {
    "ExecuteTime": {
     "end_time": "2024-04-22T20:27:07.434988Z",
     "start_time": "2024-04-22T20:27:07.432557Z"
    }
   },
   "cell_type": "code",
   "source": "model = \"google/gemma-2b-it\"",
   "id": "4579d2c15d94a758",
   "outputs": [],
   "execution_count": 2
  },
  {
   "metadata": {},
   "cell_type": "markdown",
   "source": "",
   "id": "5412fe4f27c6830"
  },
  {
   "metadata": {},
   "cell_type": "markdown",
   "source": "### Initialize Summarizer",
   "id": "a3cf0e1cde5f2ed1"
  },
  {
   "metadata": {
    "ExecuteTime": {
     "end_time": "2024-04-22T20:27:12.253253Z",
     "start_time": "2024-04-22T20:27:07.434988Z"
    }
   },
   "cell_type": "code",
   "source": "summarizer = Summarizer(model)",
   "id": "8efe239eefda45d4",
   "outputs": [
    {
     "name": "stderr",
     "output_type": "stream",
     "text": [
      "Gemma's activation function should be approximate GeLU and not exact GeLU.\n",
      "Changing the activation function to `gelu_pytorch_tanh`.if you want to use the legacy `gelu`, edit the `model.config` to set `hidden_activation=gelu`   instead of `hidden_act`. See https://github.com/huggingface/transformers/pull/29402 for more details.\n"
     ]
    },
    {
     "data": {
      "text/plain": [
       "Loading checkpoint shards:   0%|          | 0/2 [00:00<?, ?it/s]"
      ],
      "application/vnd.jupyter.widget-view+json": {
       "version_major": 2,
       "version_minor": 0,
       "model_id": "86cd584473f64ba0bc8159b36e7b9baa"
      }
     },
     "metadata": {},
     "output_type": "display_data"
    }
   ],
   "execution_count": 3
  },
  {
   "metadata": {},
   "cell_type": "markdown",
   "source": "",
   "id": "9006860e32eca925"
  },
  {
   "metadata": {},
   "cell_type": "markdown",
   "source": "### Load Explanation",
   "id": "dfa69a2535a35313"
  },
  {
   "metadata": {
    "ExecuteTime": {
     "end_time": "2024-04-22T20:27:12.265227Z",
     "start_time": "2024-04-22T20:27:12.254261Z"
    }
   },
   "cell_type": "code",
   "source": [
    "drug = \"mirtazapine\"\n",
    "condition = \"depression\"\n",
    "explanation_path = \"../../explanations/shap/\"\n",
    "explanation = Explanation().load(f\"{explanation_path}/explanation_{drug}.json\")\n",
    "positive_words = explanation.get_top_positive_tokens(16)\n",
    "negative_words = explanation.get_top_negative_tokens(16)"
   ],
   "id": "c6e032b9d1c194a3",
   "outputs": [],
   "execution_count": 4
  },
  {
   "metadata": {},
   "cell_type": "markdown",
   "source": "",
   "id": "58d1b23680ba9c20"
  },
  {
   "metadata": {},
   "cell_type": "markdown",
   "source": "### Summarize Explanation",
   "id": "787055f09e8b332c"
  },
  {
   "metadata": {
    "ExecuteTime": {
     "end_time": "2024-04-22T20:27:14.042236Z",
     "start_time": "2024-04-22T20:27:12.266232Z"
    }
   },
   "cell_type": "code",
   "source": "input, output = summarizer(drug, condition, positive_words, negative_words)",
   "id": "93d8d89833805352",
   "outputs": [
    {
     "name": "stderr",
     "output_type": "stream",
     "text": [
      "C:\\Users\\Zhou\\AppData\\Local\\Programs\\Python\\Python311\\Lib\\site-packages\\transformers\\models\\gemma\\modeling_gemma.py:573: UserWarning: 1Torch was not compiled with flash attention. (Triggered internally at ..\\aten\\src\\ATen\\native\\transformers\\cuda\\sdp_utils.cpp:263.)\n",
      "  attn_output = torch.nn.functional.scaled_dot_product_attention(\n"
     ]
    }
   ],
   "execution_count": 5
  },
  {
   "metadata": {},
   "cell_type": "markdown",
   "source": "",
   "id": "8d05e170504a4dae"
  },
  {
   "metadata": {},
   "cell_type": "markdown",
   "source": "### Print Summarization",
   "id": "296c52a726db3f45"
  },
  {
   "metadata": {
    "ExecuteTime": {
     "end_time": "2024-04-22T20:27:14.045905Z",
     "start_time": "2024-04-22T20:27:14.042236Z"
    }
   },
   "cell_type": "code",
   "source": [
    "print(\"Prompt:\\n\", input)\n",
    "print()\n",
    "print(\"Response:\\n\", output)"
   ],
   "id": "84a381e86d0313b1",
   "outputs": [
    {
     "name": "stdout",
     "output_type": "stream",
     "text": [
      "Prompt:\n",
      " Generate a 3-sentence overview of patient sentiments for the medicine $medicine for treating $condition. Write in 3rd person. Do not include outside information. The following words are taken from patient reviews and are most highly correlated with positive reviews: ['heavenly', 'Rapid ', 'Amazing ', 'Amazing', 'Living ', 'youthful', 'Saved ', 'Love ', 'happily', 'Fantastic', 'yes ', 'glad ', 'enough', 'improves ', 'miracle', 'nightmares ']. The following words are taken from patient reviews and are most highly correlated with negative reviews: ['Cannot ', 'Otherwise', 'Causes ', 'rage', 'headed ', 'erased', 'Horrible ', 'posting ', 'Awful ', 'unless ', 'doomed ', 'drastically', 'CYcle', 'virtually ', 'averaging ', 'horrible'].\n",
      "\n",
      "Response:\n",
      " **Patient Sentiment Overview**\n",
      "Patients who take mirtazapine for treating depression are overwhelmingly positive about the product. They consistently express overwhelming praise for its heavenly effects, rapid relief, and ability to save them from a life of suffering. However, some patients do express concerns about the product's potential side effects, such as rage and nightmares, but these concerns are generally outweighed by the overwhelmingly positive reviews.\n"
     ]
    }
   ],
   "execution_count": 6
  }
 ],
 "metadata": {
  "kernelspec": {
   "display_name": "Python 3",
   "language": "python",
   "name": "python3"
  },
  "language_info": {
   "codemirror_mode": {
    "name": "ipython",
    "version": 2
   },
   "file_extension": ".py",
   "mimetype": "text/x-python",
   "name": "python",
   "nbconvert_exporter": "python",
   "pygments_lexer": "ipython2",
   "version": "2.7.6"
  }
 },
 "nbformat": 4,
 "nbformat_minor": 5
}
