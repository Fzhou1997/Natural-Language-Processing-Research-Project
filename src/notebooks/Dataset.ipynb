{
 "cells": [
  {
   "metadata": {},
   "cell_type": "markdown",
   "source": [
    "### About This Dataset\n",
    "\n",
    "This project utilizes the UCI Machine Learning Drug Review Dataset published by the UCI Machine Learning Repository, hosted by Kaggle. The dataset contains over 200,000 individual patient drug reviews containing information on the patient conditions, prescribed medicines, textual reviews, and ordinal rating between 1 and 10. A preliminary analysis of the data revealed that a majority of the reviews are either 1 or 10, so all other reviews with ratings between 2 and 9 (inclusive) are dropped to improve model parameter learning. The dataset is then split in training and testing sets with a 75% training to 25% testing ratio."
   ],
   "id": "279f301355c272be"
  },
  {
   "metadata": {},
   "cell_type": "markdown",
   "source": "### Import Statements",
   "id": "63bb1e42674be7cd"
  },
  {
   "cell_type": "code",
   "id": "initial_id",
   "metadata": {
    "collapsed": true,
    "ExecuteTime": {
     "end_time": "2024-04-22T01:15:47.668908Z",
     "start_time": "2024-04-22T01:15:45.830657Z"
    }
   },
   "source": [
    "import matplotlib.pyplot as plt\n",
    "\n",
    "from src.dataset import ReviewDataset"
   ],
   "outputs": [],
   "execution_count": 1
  },
  {
   "metadata": {},
   "cell_type": "markdown",
   "source": "",
   "id": "360d522f7994a519"
  },
  {
   "metadata": {},
   "cell_type": "markdown",
   "source": "### Environment Variables",
   "id": "d1fa6ad6e2e3fb89"
  },
  {
   "metadata": {
    "ExecuteTime": {
     "end_time": "2024-04-22T01:15:47.672304Z",
     "start_time": "2024-04-22T01:15:47.669914Z"
    }
   },
   "cell_type": "code",
   "source": [
    "data_path_all = \"../../data/all.csv\"\n",
    "data_path_train = \"../../data/train.csv\"\n",
    "data_path_test = \"../../data/test.csv\""
   ],
   "id": "c10154e8595ff179",
   "outputs": [],
   "execution_count": 2
  },
  {
   "metadata": {},
   "cell_type": "markdown",
   "source": "",
   "id": "897f039f9abbdcc5"
  },
  {
   "metadata": {},
   "cell_type": "markdown",
   "source": "### Load Data",
   "id": "32e581a2229ac7da"
  },
  {
   "metadata": {
    "ExecuteTime": {
     "end_time": "2024-04-22T01:15:48.575279Z",
     "start_time": "2024-04-22T01:15:47.672304Z"
    }
   },
   "cell_type": "code",
   "source": "dataset_all = ReviewDataset(data_path_all, preprocess=False)",
   "id": "1508847d368437e",
   "outputs": [],
   "execution_count": 3
  },
  {
   "metadata": {},
   "cell_type": "markdown",
   "source": "",
   "id": "93377c2cad35a93e"
  },
  {
   "metadata": {},
   "cell_type": "markdown",
   "source": "### Data Sample",
   "id": "22bda975db13cf75"
  },
  {
   "metadata": {
    "ExecuteTime": {
     "end_time": "2024-04-22T01:15:48.583314Z",
     "start_time": "2024-04-22T01:15:48.575279Z"
    }
   },
   "cell_type": "code",
   "source": "dataset_all.head()",
   "id": "e958f835c4cc1918",
   "outputs": [
    {
     "data": {
      "text/plain": [
       "         drug_name                     condition  \\\n",
       "0      mirtazapine                    depression   \n",
       "1       mesalamine  crohn's disease, maintenance   \n",
       "2          bactrim       urinary tract infection   \n",
       "3         contrave                   weight loss   \n",
       "4  cyclafem 1 / 35                 birth control   \n",
       "5          zyclara                     keratosis   \n",
       "6           copper                 birth control   \n",
       "7    amitriptyline           migraine prevention   \n",
       "8        methadone             opiate withdrawal   \n",
       "9           levora                 birth control   \n",
       "\n",
       "                                              review  rating  \n",
       "0  I&#039;ve tried a few antidepressants over the...      10  \n",
       "1  My son has Crohn&#039;s disease and has done v...       8  \n",
       "2                        Quick reduction of symptoms       9  \n",
       "3  Contrave combines drugs that were used for alc...       9  \n",
       "4  I have been on this birth control for one cycl...       9  \n",
       "5  4 days in on first 2 weeks.  Using on arms and...       4  \n",
       "6  I&#039;ve had the copper coil for about 3 mont...       6  \n",
       "7  This has been great for me. I&#039;ve been on ...       9  \n",
       "8  Ive been on Methadone for over ten years and c...       7  \n",
       "9  I was on this pill for almost two years. It do...       2  "
      ],
      "text/html": [
       "<div>\n",
       "<style scoped>\n",
       "    .dataframe tbody tr th:only-of-type {\n",
       "        vertical-align: middle;\n",
       "    }\n",
       "\n",
       "    .dataframe tbody tr th {\n",
       "        vertical-align: top;\n",
       "    }\n",
       "\n",
       "    .dataframe thead th {\n",
       "        text-align: right;\n",
       "    }\n",
       "</style>\n",
       "<table border=\"1\" class=\"dataframe\">\n",
       "  <thead>\n",
       "    <tr style=\"text-align: right;\">\n",
       "      <th></th>\n",
       "      <th>drug_name</th>\n",
       "      <th>condition</th>\n",
       "      <th>review</th>\n",
       "      <th>rating</th>\n",
       "    </tr>\n",
       "  </thead>\n",
       "  <tbody>\n",
       "    <tr>\n",
       "      <th>0</th>\n",
       "      <td>mirtazapine</td>\n",
       "      <td>depression</td>\n",
       "      <td>I&amp;#039;ve tried a few antidepressants over the...</td>\n",
       "      <td>10</td>\n",
       "    </tr>\n",
       "    <tr>\n",
       "      <th>1</th>\n",
       "      <td>mesalamine</td>\n",
       "      <td>crohn's disease, maintenance</td>\n",
       "      <td>My son has Crohn&amp;#039;s disease and has done v...</td>\n",
       "      <td>8</td>\n",
       "    </tr>\n",
       "    <tr>\n",
       "      <th>2</th>\n",
       "      <td>bactrim</td>\n",
       "      <td>urinary tract infection</td>\n",
       "      <td>Quick reduction of symptoms</td>\n",
       "      <td>9</td>\n",
       "    </tr>\n",
       "    <tr>\n",
       "      <th>3</th>\n",
       "      <td>contrave</td>\n",
       "      <td>weight loss</td>\n",
       "      <td>Contrave combines drugs that were used for alc...</td>\n",
       "      <td>9</td>\n",
       "    </tr>\n",
       "    <tr>\n",
       "      <th>4</th>\n",
       "      <td>cyclafem 1 / 35</td>\n",
       "      <td>birth control</td>\n",
       "      <td>I have been on this birth control for one cycl...</td>\n",
       "      <td>9</td>\n",
       "    </tr>\n",
       "    <tr>\n",
       "      <th>5</th>\n",
       "      <td>zyclara</td>\n",
       "      <td>keratosis</td>\n",
       "      <td>4 days in on first 2 weeks.  Using on arms and...</td>\n",
       "      <td>4</td>\n",
       "    </tr>\n",
       "    <tr>\n",
       "      <th>6</th>\n",
       "      <td>copper</td>\n",
       "      <td>birth control</td>\n",
       "      <td>I&amp;#039;ve had the copper coil for about 3 mont...</td>\n",
       "      <td>6</td>\n",
       "    </tr>\n",
       "    <tr>\n",
       "      <th>7</th>\n",
       "      <td>amitriptyline</td>\n",
       "      <td>migraine prevention</td>\n",
       "      <td>This has been great for me. I&amp;#039;ve been on ...</td>\n",
       "      <td>9</td>\n",
       "    </tr>\n",
       "    <tr>\n",
       "      <th>8</th>\n",
       "      <td>methadone</td>\n",
       "      <td>opiate withdrawal</td>\n",
       "      <td>Ive been on Methadone for over ten years and c...</td>\n",
       "      <td>7</td>\n",
       "    </tr>\n",
       "    <tr>\n",
       "      <th>9</th>\n",
       "      <td>levora</td>\n",
       "      <td>birth control</td>\n",
       "      <td>I was on this pill for almost two years. It do...</td>\n",
       "      <td>2</td>\n",
       "    </tr>\n",
       "  </tbody>\n",
       "</table>\n",
       "</div>"
      ]
     },
     "execution_count": 4,
     "metadata": {},
     "output_type": "execute_result"
    }
   ],
   "execution_count": 4
  },
  {
   "metadata": {},
   "cell_type": "markdown",
   "source": "",
   "id": "d16f67ffe5aacacf"
  },
  {
   "metadata": {},
   "cell_type": "markdown",
   "source": "### Data Exploration",
   "id": "30c1cd260fc575cf"
  },
  {
   "metadata": {
    "ExecuteTime": {
     "end_time": "2024-04-22T01:15:48.656082Z",
     "start_time": "2024-04-22T01:15:48.584322Z"
    }
   },
   "cell_type": "code",
   "source": [
    "print(\"Number of Reviews: \", len(dataset_all))\n",
    "print(\"Number of Drugs: \", len(dataset_all.get_drug_names()))\n",
    "print(\"Number of Conditions: \", len(dataset_all.get_conditions()))"
   ],
   "id": "e91b38ea388aedf5",
   "outputs": [
    {
     "name": "stdout",
     "output_type": "stream",
     "text": [
      "Number of Reviews:  215063\n",
      "Number of Drugs:  3671\n",
      "Number of Conditions:  917\n"
     ]
    }
   ],
   "execution_count": 5
  },
  {
   "metadata": {},
   "cell_type": "markdown",
   "source": "",
   "id": "e007ba61b02c95fc"
  },
  {
   "metadata": {},
   "cell_type": "markdown",
   "source": "### Data Class Distribution",
   "id": "bb97cc6974283500"
  },
  {
   "metadata": {
    "ExecuteTime": {
     "end_time": "2024-04-22T01:15:48.755370Z",
     "start_time": "2024-04-22T01:15:48.656082Z"
    }
   },
   "cell_type": "code",
   "source": [
    "rating_counts = dataset_all.get_class_counts()\n",
    "\n",
    "plt.figure(figsize=(10,6))\n",
    "rating_counts.plot.bar(color='skyblue')\n",
    "plt.title('Data Class Distribution')\n",
    "plt.xlabel('Rating')\n",
    "plt.ylabel('Count')\n",
    "plt.show()"
   ],
   "id": "a21d92a022feedd8",
   "outputs": [
    {
     "data": {
      "text/plain": [
       "<Figure size 1000x600 with 1 Axes>"
      ],
      "image/png": "[encoded data removed]"
     },
     "metadata": {},
     "output_type": "display_data"
    }
   ],
   "execution_count": 6
  },
  {
   "metadata": {},
   "cell_type": "markdown",
   "source": "",
   "id": "9c147183d58f8a96"
  },
  {
   "metadata": {},
   "cell_type": "markdown",
   "source": "### Binarize Ratings",
   "id": "b00afca75cc4e605"
  },
  {
   "metadata": {
    "ExecuteTime": {
     "end_time": "2024-04-22T01:15:48.776944Z",
     "start_time": "2024-04-22T01:15:48.755370Z"
    }
   },
   "cell_type": "code",
   "source": "dataset_all.encode_binary_sentiment()",
   "id": "ca79d26712cc91f4",
   "outputs": [
    {
     "data": {
      "text/plain": [
       "<src.dataset.ReviewDataset at 0x25101584790>"
      ]
     },
     "execution_count": 7,
     "metadata": {},
     "output_type": "execute_result"
    }
   ],
   "execution_count": 7
  },
  {
   "metadata": {},
   "cell_type": "markdown",
   "source": "",
   "id": "5cd40c1d9a1b891b"
  },
  {
   "metadata": {},
   "cell_type": "markdown",
   "source": "### Data Sample",
   "id": "82a4c846e87130a2"
  },
  {
   "metadata": {
    "ExecuteTime": {
     "end_time": "2024-04-22T01:15:48.781877Z",
     "start_time": "2024-04-22T01:15:48.776944Z"
    }
   },
   "cell_type": "code",
   "source": "dataset_all.data.head()",
   "id": "562b8ccecc3e4b34",
   "outputs": [
    {
     "data": {
      "text/plain": [
       "     drug_name                condition  \\\n",
       "0  mirtazapine               depression   \n",
       "1   paroxetine              hot flashes   \n",
       "2       belviq              weight loss   \n",
       "3     seroquel  schizoaffective disorde   \n",
       "4      chantix        smoking cessation   \n",
       "\n",
       "                                              review  rating  sentiment  \n",
       "0  I&#039;ve tried a few antidepressants over the...      10          1  \n",
       "1  Holy Hell is exactly how I feel. I had been ta...       1          0  \n",
       "2  This is a waste of money.  Did not curb my app...       1          0  \n",
       "3                   No problems, watch what you eat.      10          1  \n",
       "4  I smoked for 50+ years.  Took it for one week ...      10          1  "
      ],
      "text/html": [
       "<div>\n",
       "<style scoped>\n",
       "    .dataframe tbody tr th:only-of-type {\n",
       "        vertical-align: middle;\n",
       "    }\n",
       "\n",
       "    .dataframe tbody tr th {\n",
       "        vertical-align: top;\n",
       "    }\n",
       "\n",
       "    .dataframe thead th {\n",
       "        text-align: right;\n",
       "    }\n",
       "</style>\n",
       "<table border=\"1\" class=\"dataframe\">\n",
       "  <thead>\n",
       "    <tr style=\"text-align: right;\">\n",
       "      <th></th>\n",
       "      <th>drug_name</th>\n",
       "      <th>condition</th>\n",
       "      <th>review</th>\n",
       "      <th>rating</th>\n",
       "      <th>sentiment</th>\n",
       "    </tr>\n",
       "  </thead>\n",
       "  <tbody>\n",
       "    <tr>\n",
       "      <th>0</th>\n",
       "      <td>mirtazapine</td>\n",
       "      <td>depression</td>\n",
       "      <td>I&amp;#039;ve tried a few antidepressants over the...</td>\n",
       "      <td>10</td>\n",
       "      <td>1</td>\n",
       "    </tr>\n",
       "    <tr>\n",
       "      <th>1</th>\n",
       "      <td>paroxetine</td>\n",
       "      <td>hot flashes</td>\n",
       "      <td>Holy Hell is exactly how I feel. I had been ta...</td>\n",
       "      <td>1</td>\n",
       "      <td>0</td>\n",
       "    </tr>\n",
       "    <tr>\n",
       "      <th>2</th>\n",
       "      <td>belviq</td>\n",
       "      <td>weight loss</td>\n",
       "      <td>This is a waste of money.  Did not curb my app...</td>\n",
       "      <td>1</td>\n",
       "      <td>0</td>\n",
       "    </tr>\n",
       "    <tr>\n",
       "      <th>3</th>\n",
       "      <td>seroquel</td>\n",
       "      <td>schizoaffective disorde</td>\n",
       "      <td>No problems, watch what you eat.</td>\n",
       "      <td>10</td>\n",
       "      <td>1</td>\n",
       "    </tr>\n",
       "    <tr>\n",
       "      <th>4</th>\n",
       "      <td>chantix</td>\n",
       "      <td>smoking cessation</td>\n",
       "      <td>I smoked for 50+ years.  Took it for one week ...</td>\n",
       "      <td>10</td>\n",
       "      <td>1</td>\n",
       "    </tr>\n",
       "  </tbody>\n",
       "</table>\n",
       "</div>"
      ]
     },
     "execution_count": 8,
     "metadata": {},
     "output_type": "execute_result"
    }
   ],
   "execution_count": 8
  },
  {
   "metadata": {},
   "cell_type": "markdown",
   "source": "",
   "id": "b25b6b2c994c8c21"
  },
  {
   "metadata": {},
   "cell_type": "markdown",
   "source": "### Data Exploration",
   "id": "e6028183c4713a85"
  },
  {
   "metadata": {
    "ExecuteTime": {
     "end_time": "2024-04-22T01:15:48.797533Z",
     "start_time": "2024-04-22T01:15:48.781877Z"
    }
   },
   "cell_type": "code",
   "source": [
    "print(\"Number of Reviews: \", len(dataset_all))\n",
    "print(\"Number of Drugs: \", len(dataset_all.get_drug_names()))\n",
    "print(\"Number of Conditions: \", len(dataset_all.get_conditions()))"
   ],
   "id": "d741a118758fd7f6",
   "outputs": [
    {
     "name": "stdout",
     "output_type": "stream",
     "text": [
      "Number of Reviews:  96923\n",
      "Number of Drugs:  3169\n",
      "Number of Conditions:  782\n"
     ]
    }
   ],
   "execution_count": 9
  },
  {
   "metadata": {},
   "cell_type": "markdown",
   "source": "",
   "id": "b98a9b9d2f7c2377"
  },
  {
   "metadata": {},
   "cell_type": "markdown",
   "source": "### Data Class Distribution",
   "id": "c59d4a2018d0f5e6"
  },
  {
   "metadata": {
    "ExecuteTime": {
     "end_time": "2024-04-22T01:15:48.860725Z",
     "start_time": "2024-04-22T01:15:48.797533Z"
    }
   },
   "cell_type": "code",
   "source": [
    "rating_counts = dataset_all.get_class_counts()\n",
    "\n",
    "plt.figure(figsize=(10,6))\n",
    "rating_counts.plot.bar(color='skyblue')\n",
    "plt.title('Data Class Distribution')\n",
    "plt.xlabel('Sentiment')\n",
    "plt.ylabel('Count')\n",
    "plt.show()"
   ],
   "id": "90ea1a242fee14ec",
   "outputs": [
    {
     "data": {
      "text/plain": [
       "<Figure size 1000x600 with 1 Axes>"
      ],
      "image/png": "[encoded data removed]"
     },
     "metadata": {},
     "output_type": "display_data"
    }
   ],
   "execution_count": 10
  },
  {
   "metadata": {},
   "cell_type": "markdown",
   "source": "",
   "id": "9d9e65e67edb2b0c"
  },
  {
   "metadata": {},
   "cell_type": "markdown",
   "source": "### Train_test Split",
   "id": "35c88a5c262eb75b"
  },
  {
   "metadata": {
    "ExecuteTime": {
     "end_time": "2024-04-22T01:15:49.905222Z",
     "start_time": "2024-04-22T01:15:48.860725Z"
    }
   },
   "cell_type": "code",
   "source": [
    "dataset_train = ReviewDataset(data_path_train)\n",
    "dataset_test = ReviewDataset(data_path_test)"
   ],
   "id": "5968ed16ee0d61f1",
   "outputs": [],
   "execution_count": 11
  },
  {
   "metadata": {},
   "cell_type": "markdown",
   "source": "",
   "id": "4b6f2bf1eaf52a00"
  },
  {
   "metadata": {},
   "cell_type": "markdown",
   "source": "### Train-Test Data Exploration",
   "id": "cdf717c555b69e83"
  },
  {
   "metadata": {
    "ExecuteTime": {
     "end_time": "2024-04-22T01:15:49.909248Z",
     "start_time": "2024-04-22T01:15:49.905222Z"
    }
   },
   "cell_type": "code",
   "source": [
    "print(\"Number of Training Set Reviews: \", len(dataset_train))\n",
    "print(\"Number of Testing Set Reviews: \", len(dataset_test))\n",
    "print(f\"Train-Test Ratio: {len(dataset_train) / (len(dataset_train) + len(dataset_test)): .2f}\")"
   ],
   "id": "90a42fd5e6927ece",
   "outputs": [
    {
     "name": "stdout",
     "output_type": "stream",
     "text": [
      "Number of Training Set Reviews:  72608\n",
      "Number of Testing Set Reviews:  24315\n",
      "Train-Test Ratio:  0.75\n"
     ]
    }
   ],
   "execution_count": 12
  }
 ],
 "metadata": {
  "kernelspec": {
   "display_name": "Python 3",
   "language": "python",
   "name": "python3"
  },
  "language_info": {
   "codemirror_mode": {
    "name": "ipython",
    "version": 2
   },
   "file_extension": ".py",
   "mimetype": "text/x-python",
   "name": "python",
   "nbconvert_exporter": "python",
   "pygments_lexer": "ipython2",
   "version": "2.7.6"
  }
 },
 "nbformat": 4,
 "nbformat_minor": 5
}
