{
 "cells": [
  {
   "cell_type": "code",
   "outputs": [],
   "source": [
    "import shap\n",
    "\n",
    "from src.binary_explainer import Tokenizer, Classifier, Explainer, RawReviewDataset, FILEPATH_ALL"
   ],
   "metadata": {
    "collapsed": false,
    "ExecuteTime": {
     "end_time": "2024-04-17T01:00:37.361868Z",
     "start_time": "2024-04-17T01:00:37.359339Z"
    }
   },
   "id": "9929c8068e869e9d",
   "execution_count": 8
  },
  {
   "cell_type": "code",
   "execution_count": 9,
   "id": "initial_id",
   "metadata": {
    "collapsed": true,
    "ExecuteTime": {
     "end_time": "2024-04-17T01:00:45.966954Z",
     "start_time": "2024-04-17T01:00:37.433877Z"
    }
   },
   "outputs": [
    {
     "ename": "ValueError",
     "evalue": "setting an array element with a sequence. The requested array has an inhomogeneous shape after 1 dimensions. The detected shape was (10,) + inhomogeneous part.",
     "output_type": "error",
     "traceback": [
      "\u001B[1;31m---------------------------------------------------------------------------\u001B[0m",
      "\u001B[1;31mValueError\u001B[0m                                Traceback (most recent call last)",
      "Cell \u001B[1;32mIn[9], line 7\u001B[0m\n\u001B[0;32m      5\u001B[0m subset \u001B[38;5;241m=\u001B[39m dataset\u001B[38;5;241m.\u001B[39mget_subset_drug_name(dataset\u001B[38;5;241m.\u001B[39mget_drug_names()[\u001B[38;5;241m0\u001B[39m])\n\u001B[0;32m      6\u001B[0m explanations \u001B[38;5;241m=\u001B[39m explainer(subset[:\u001B[38;5;241m10\u001B[39m])\n\u001B[1;32m----> 7\u001B[0m shap\u001B[38;5;241m.\u001B[39mplots\u001B[38;5;241m.\u001B[39mtext(\u001B[43mexplanations\u001B[49m\u001B[43m[\u001B[49m\u001B[43m:\u001B[49m\u001B[38;5;241;43m10\u001B[39;49m\u001B[43m]\u001B[49m)    \n",
      "File \u001B[1;32m~\\AppData\\Local\\Programs\\Python\\Python311\\Lib\\site-packages\\shap\\_explanation.py:391\u001B[0m, in \u001B[0;36mExplanation.__getitem__\u001B[1;34m(self, item)\u001B[0m\n\u001B[0;32m    389\u001B[0m \u001B[38;5;28;01mif\u001B[39;00m new_self \u001B[38;5;129;01mis\u001B[39;00m \u001B[38;5;28;01mNone\u001B[39;00m:\n\u001B[0;32m    390\u001B[0m     new_self \u001B[38;5;241m=\u001B[39m copy\u001B[38;5;241m.\u001B[39mcopy(\u001B[38;5;28mself\u001B[39m)\n\u001B[1;32m--> 391\u001B[0m new_self\u001B[38;5;241m.\u001B[39m_s \u001B[38;5;241m=\u001B[39m \u001B[43mnew_self\u001B[49m\u001B[38;5;241;43m.\u001B[39;49m\u001B[43m_s\u001B[49m\u001B[38;5;241;43m.\u001B[39;49m\u001B[38;5;21;43m__getitem__\u001B[39;49m\u001B[43m(\u001B[49m\u001B[43mitem\u001B[49m\u001B[43m)\u001B[49m\n\u001B[0;32m    392\u001B[0m new_self\u001B[38;5;241m.\u001B[39mop_history\u001B[38;5;241m.\u001B[39mappend({\n\u001B[0;32m    393\u001B[0m     \u001B[38;5;124m\"\u001B[39m\u001B[38;5;124mname\u001B[39m\u001B[38;5;124m\"\u001B[39m: \u001B[38;5;124m\"\u001B[39m\u001B[38;5;124m__getitem__\u001B[39m\u001B[38;5;124m\"\u001B[39m,\n\u001B[0;32m    394\u001B[0m     \u001B[38;5;124m\"\u001B[39m\u001B[38;5;124margs\u001B[39m\u001B[38;5;124m\"\u001B[39m: (item,),\n\u001B[0;32m    395\u001B[0m     \u001B[38;5;124m\"\u001B[39m\u001B[38;5;124mprev_shape\u001B[39m\u001B[38;5;124m\"\u001B[39m: \u001B[38;5;28mself\u001B[39m\u001B[38;5;241m.\u001B[39mshape\n\u001B[0;32m    396\u001B[0m })\n\u001B[0;32m    398\u001B[0m \u001B[38;5;28;01mreturn\u001B[39;00m new_self\n",
      "File \u001B[1;32m~\\AppData\\Local\\Programs\\Python\\Python311\\Lib\\site-packages\\slicer\\slicer.py:112\u001B[0m, in \u001B[0;36mSlicer.__getitem__\u001B[1;34m(self, item)\u001B[0m\n\u001B[0;32m    110\u001B[0m index_slicer \u001B[38;5;241m=\u001B[39m AtomicSlicer(index_tup, max_dim\u001B[38;5;241m=\u001B[39m\u001B[38;5;241m1\u001B[39m)\n\u001B[0;32m    111\u001B[0m slicer_index \u001B[38;5;241m=\u001B[39m index_slicer[tracked\u001B[38;5;241m.\u001B[39mdim]\n\u001B[1;32m--> 112\u001B[0m sliced_o \u001B[38;5;241m=\u001B[39m \u001B[43mtracked\u001B[49m\u001B[43m[\u001B[49m\u001B[43mslicer_index\u001B[49m\u001B[43m]\u001B[49m\n\u001B[0;32m    113\u001B[0m sliced_dim \u001B[38;5;241m=\u001B[39m resolve_dim(index_tup, tracked\u001B[38;5;241m.\u001B[39mdim)\n\u001B[0;32m    115\u001B[0m new_tracked \u001B[38;5;241m=\u001B[39m tracked\u001B[38;5;241m.\u001B[39m\u001B[38;5;18m__class__\u001B[39m(sliced_o, sliced_dim)\n",
      "File \u001B[1;32m~\\AppData\\Local\\Programs\\Python\\Python311\\Lib\\site-packages\\slicer\\slicer_internal.py:69\u001B[0m, in \u001B[0;36mAtomicSlicer.__getitem__\u001B[1;34m(self, item)\u001B[0m\n\u001B[0;32m     66\u001B[0m index_tup \u001B[38;5;241m=\u001B[39m unify_slice(item, \u001B[38;5;28mself\u001B[39m\u001B[38;5;241m.\u001B[39mmax_dim)\n\u001B[0;32m     68\u001B[0m \u001B[38;5;66;03m# Slice according to object type.\u001B[39;00m\n\u001B[1;32m---> 69\u001B[0m \u001B[38;5;28;01mreturn\u001B[39;00m \u001B[43mUnifiedDataHandler\u001B[49m\u001B[38;5;241;43m.\u001B[39;49m\u001B[43mslice\u001B[49m\u001B[43m(\u001B[49m\u001B[38;5;28;43mself\u001B[39;49m\u001B[38;5;241;43m.\u001B[39;49m\u001B[43mo\u001B[49m\u001B[43m,\u001B[49m\u001B[43m \u001B[49m\u001B[43mindex_tup\u001B[49m\u001B[43m,\u001B[49m\u001B[43m \u001B[49m\u001B[38;5;28;43mself\u001B[39;49m\u001B[38;5;241;43m.\u001B[39;49m\u001B[43mmax_dim\u001B[49m\u001B[43m)\u001B[49m\n",
      "File \u001B[1;32m~\\AppData\\Local\\Programs\\Python\\Python311\\Lib\\site-packages\\slicer\\slicer_internal.py:583\u001B[0m, in \u001B[0;36mUnifiedDataHandler.slice\u001B[1;34m(cls, o, index_tup, max_dim)\u001B[0m\n\u001B[0;32m    580\u001B[0m tail_slice \u001B[38;5;241m=\u001B[39m \u001B[38;5;28mcls\u001B[39m\u001B[38;5;241m.\u001B[39mtype_map[o_type]\u001B[38;5;241m.\u001B[39mtail_slice\n\u001B[0;32m    582\u001B[0m is_element, sliced_o, cut \u001B[38;5;241m=\u001B[39m head_slice(o, index_tup, max_dim)\n\u001B[1;32m--> 583\u001B[0m out \u001B[38;5;241m=\u001B[39m \u001B[43mtail_slice\u001B[49m\u001B[43m(\u001B[49m\u001B[43msliced_o\u001B[49m\u001B[43m,\u001B[49m\u001B[43m \u001B[49m\u001B[43mindex_tup\u001B[49m\u001B[43m[\u001B[49m\u001B[43mcut\u001B[49m\u001B[43m:\u001B[49m\u001B[43m]\u001B[49m\u001B[43m,\u001B[49m\u001B[43m \u001B[49m\u001B[43mmax_dim\u001B[49m\u001B[43m \u001B[49m\u001B[38;5;241;43m-\u001B[39;49m\u001B[43m \u001B[49m\u001B[43mcut\u001B[49m\u001B[43m,\u001B[49m\u001B[43m \u001B[49m\u001B[43mis_element\u001B[49m\u001B[43m)\u001B[49m\n\u001B[0;32m    584\u001B[0m \u001B[38;5;28;01mreturn\u001B[39;00m out\n",
      "File \u001B[1;32m~\\AppData\\Local\\Programs\\Python\\Python311\\Lib\\site-packages\\slicer\\slicer_internal.py:443\u001B[0m, in \u001B[0;36mArrayHandler.tail_slice\u001B[1;34m(cls, o, tail_index, max_dim, flatten)\u001B[0m\n\u001B[0;32m    440\u001B[0m \u001B[38;5;28;01mif\u001B[39;00m _safe_isinstance(o, \u001B[38;5;124m\"\u001B[39m\u001B[38;5;124mnumpy\u001B[39m\u001B[38;5;124m\"\u001B[39m, \u001B[38;5;124m\"\u001B[39m\u001B[38;5;124mndarray\u001B[39m\u001B[38;5;124m\"\u001B[39m):\n\u001B[0;32m    441\u001B[0m     \u001B[38;5;28;01mimport\u001B[39;00m \u001B[38;5;21;01mnumpy\u001B[39;00m\n\u001B[1;32m--> 443\u001B[0m     \u001B[38;5;28;01mreturn\u001B[39;00m numpy\u001B[38;5;241m.\u001B[39marray(inner)\n\u001B[0;32m    444\u001B[0m \u001B[38;5;28;01melif\u001B[39;00m _safe_isinstance(o, \u001B[38;5;124m\"\u001B[39m\u001B[38;5;124mtorch\u001B[39m\u001B[38;5;124m\"\u001B[39m, \u001B[38;5;124m\"\u001B[39m\u001B[38;5;124mTensor\u001B[39m\u001B[38;5;124m\"\u001B[39m):\n\u001B[0;32m    445\u001B[0m     \u001B[38;5;28;01mimport\u001B[39;00m \u001B[38;5;21;01mtorch\u001B[39;00m\n",
      "\u001B[1;31mValueError\u001B[0m: setting an array element with a sequence. The requested array has an inhomogeneous shape after 1 dimensions. The detected shape was (10,) + inhomogeneous part."
     ]
    }
   ],
   "source": [
    "tokenizer = Tokenizer()\n",
    "classifier = Classifier(tokenizer)\n",
    "explainer = Explainer(classifier, tokenizer)\n",
    "dataset = RawReviewDataset(FILEPATH_ALL)\n",
    "subset = dataset.get_subset_drug_name(dataset.get_drug_names()[0])\n",
    "explanations = explainer(subset[:10])\n",
    "shap.plots.text(explanations)   "
   ]
  }
 ],
 "metadata": {
  "kernelspec": {
   "display_name": "Python 3",
   "language": "python",
   "name": "python3"
  },
  "language_info": {
   "codemirror_mode": {
    "name": "ipython",
    "version": 2
   },
   "file_extension": ".py",
   "mimetype": "text/x-python",
   "name": "python",
   "nbconvert_exporter": "python",
   "pygments_lexer": "ipython2",
   "version": "2.7.6"
  }
 },
 "nbformat": 4,
 "nbformat_minor": 5
}
