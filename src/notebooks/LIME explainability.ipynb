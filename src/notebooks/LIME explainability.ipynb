{
 "cells": [
  {
   "cell_type": "code",
   "execution_count": 1,
   "id": "74e1e49d",
   "metadata": {},
   "outputs": [
    {
     "name": "stderr",
     "output_type": "stream",
     "text": [
      "2024-04-15 16:12:52.750291: I tensorflow/core/platform/cpu_feature_guard.cc:182] This TensorFlow binary is optimized to use available CPU instructions in performance-critical operations.\n",
      "To enable the following instructions: AVX2 FMA, in other operations, rebuild TensorFlow with the appropriate compiler flags.\n",
      "/Users/barajascervantes.a/miniconda3/envs/islp/lib/python3.11/site-packages/tqdm/auto.py:21: TqdmWarning: IProgress not found. Please update jupyter and ipywidgets. See https://ipywidgets.readthedocs.io/en/stable/user_install.html\n",
      "  from .autonotebook import tqdm as notebook_tqdm\n",
      "/Users/barajascervantes.a/miniconda3/envs/islp/lib/python3.11/site-packages/transformers/utils/generic.py:441: UserWarning: torch.utils._pytree._register_pytree_node is deprecated. Please use torch.utils._pytree.register_pytree_node instead.\n",
      "  _torch_pytree._register_pytree_node(\n"
     ]
    }
   ],
   "source": [
    "import classification as clf\n",
    "import regression as rf\n",
    "import torch\n",
    "import numpy as np\n",
    "import pandas as pd\n",
    "import lime\n",
    "from torch.utils.tensorboard import SummaryWriter\n",
    "from datetime import datetime\n",
    "from lime import lime_text\n",
    "from lime.lime_text import LimeTextExplainer\n",
    "\n",
    "import torch\n",
    "import torch.nn as nn\n",
    "import torch.nn.functional as F\n",
    "from torch.utils.data import Dataset, DataLoader\n",
    "\n",
    "from transformers import AutoTokenizer, AutoModel"
   ]
  },
  {
   "cell_type": "code",
   "execution_count": 2,
   "id": "79218521",
   "metadata": {},
   "outputs": [],
   "source": [
    "FILEPATH_TRAIN = '../res/train.csv'\n",
    "FILEPATH_TEST = '../res/test.csv'\n",
    "\n",
    "MAX_LENGTH = 256\n",
    "BATCH_SIZE = 64\n",
    "\n",
    "train =clf.load_dataframe(FILEPATH_TRAIN) \n",
    "test = clf.load_dataframe(FILEPATH_TEST)"
   ]
  },
  {
   "cell_type": "code",
   "execution_count": 3,
   "id": "8f42a544",
   "metadata": {},
   "outputs": [
    {
     "name": "stdout",
     "output_type": "stream",
     "text": [
      "Using cpu device\n"
     ]
    }
   ],
   "source": [
    " device = (\n",
    "        'cuda'\n",
    "        if torch.cuda.is_available()\n",
    "        else 'cpu'\n",
    "    )\n",
    "print(f'Using {device} device')"
   ]
  },
  {
   "cell_type": "code",
   "execution_count": 4,
   "id": "1010c9d2",
   "metadata": {},
   "outputs": [],
   "source": [
    "tokenizer = AutoTokenizer.from_pretrained('bert-base-uncased')"
   ]
  },
  {
   "cell_type": "code",
   "execution_count": 5,
   "id": "1e8ba570",
   "metadata": {},
   "outputs": [
    {
     "name": "stdout",
     "output_type": "stream",
     "text": [
      "72608 training samples loaded\n",
      "24315 testing samples loaded\n"
     ]
    },
    {
     "name": "stderr",
     "output_type": "stream",
     "text": [
      "/Users/barajascervantes.a/miniconda3/envs/islp/lib/python3.11/site-packages/transformers/utils/generic.py:309: UserWarning: torch.utils._pytree._register_pytree_node is deprecated. Please use torch.utils._pytree.register_pytree_node instead.\n",
      "  _torch_pytree._register_pytree_node(\n",
      "/Users/barajascervantes.a/miniconda3/envs/islp/lib/python3.11/site-packages/transformers/utils/generic.py:309: UserWarning: torch.utils._pytree._register_pytree_node is deprecated. Please use torch.utils._pytree.register_pytree_node instead.\n",
      "  _torch_pytree._register_pytree_node(\n"
     ]
    }
   ],
   "source": [
    "train_dataset = clf.ReviewDataset(FILEPATH_TRAIN, tokenizer)\n",
    "print(f'{len(train_dataset)} training samples loaded')\n",
    "\n",
    "test_dataset = clf.ReviewDataset(FILEPATH_TEST, tokenizer)\n",
    "print(f'{len(test_dataset)} testing samples loaded')\n",
    "\n",
    "train_dataloader = DataLoader(train_dataset, batch_size=BATCH_SIZE)\n",
    "test_dataloader = DataLoader(test_dataset, batch_size=BATCH_SIZE)\n",
    "\n",
    "model = clf.RatingModel(hidden_size=1_000).to(device)"
   ]
  },
  {
   "cell_type": "code",
   "execution_count": 6,
   "id": "0df990aa",
   "metadata": {},
   "outputs": [
    {
     "name": "stdout",
     "output_type": "stream",
     "text": [
      "RatingModel(\n",
      "  (bert): BertModel(\n",
      "    (embeddings): BertEmbeddings(\n",
      "      (word_embeddings): Embedding(30522, 768, padding_idx=0)\n",
      "      (position_embeddings): Embedding(512, 768)\n",
      "      (token_type_embeddings): Embedding(2, 768)\n",
      "      (LayerNorm): LayerNorm((768,), eps=1e-12, elementwise_affine=True)\n",
      "      (dropout): Dropout(p=0.1, inplace=False)\n",
      "    )\n",
      "    (encoder): BertEncoder(\n",
      "      (layer): ModuleList(\n",
      "        (0-11): 12 x BertLayer(\n",
      "          (attention): BertAttention(\n",
      "            (self): BertSelfAttention(\n",
      "              (query): Linear(in_features=768, out_features=768, bias=True)\n",
      "              (key): Linear(in_features=768, out_features=768, bias=True)\n",
      "              (value): Linear(in_features=768, out_features=768, bias=True)\n",
      "              (dropout): Dropout(p=0.1, inplace=False)\n",
      "            )\n",
      "            (output): BertSelfOutput(\n",
      "              (dense): Linear(in_features=768, out_features=768, bias=True)\n",
      "              (LayerNorm): LayerNorm((768,), eps=1e-12, elementwise_affine=True)\n",
      "              (dropout): Dropout(p=0.1, inplace=False)\n",
      "            )\n",
      "          )\n",
      "          (intermediate): BertIntermediate(\n",
      "            (dense): Linear(in_features=768, out_features=3072, bias=True)\n",
      "            (intermediate_act_fn): GELUActivation()\n",
      "          )\n",
      "          (output): BertOutput(\n",
      "            (dense): Linear(in_features=3072, out_features=768, bias=True)\n",
      "            (LayerNorm): LayerNorm((768,), eps=1e-12, elementwise_affine=True)\n",
      "            (dropout): Dropout(p=0.1, inplace=False)\n",
      "          )\n",
      "        )\n",
      "      )\n",
      "    )\n",
      "    (pooler): BertPooler(\n",
      "      (dense): Linear(in_features=768, out_features=768, bias=True)\n",
      "      (activation): Tanh()\n",
      "    )\n",
      "  )\n",
      "  (linear1): Linear(in_features=768, out_features=512, bias=True)\n",
      "  (linear2): Linear(in_features=512, out_features=256, bias=True)\n",
      "  (linear3): Linear(in_features=256, out_features=64, bias=True)\n",
      "  (linear4): Linear(in_features=64, out_features=2, bias=True)\n",
      ")\n"
     ]
    }
   ],
   "source": [
    "print(model)"
   ]
  },
  {
   "cell_type": "code",
   "execution_count": 7,
   "id": "a879b77e",
   "metadata": {},
   "outputs": [
    {
     "data": {
      "text/plain": [
       "<All keys matched successfully>"
      ]
     },
     "execution_count": 7,
     "metadata": {},
     "output_type": "execute_result"
    }
   ],
   "source": [
    "PATH_BINARY = \"./binaryclass_model_20240414_103223_8\"\n",
    "model.load_state_dict(torch.load(PATH_BINARY,map_location=torch.device('cpu')))"
   ]
  },
  {
   "cell_type": "code",
   "execution_count": 8,
   "id": "1e581261",
   "metadata": {},
   "outputs": [],
   "source": [
    "def batch_predict(reviews):\n",
    "    tokenizer = AutoTokenizer.from_pretrained('bert-base-uncased')\n",
    "    reviews_inputs = {}\n",
    "    ids = torch.LongTensor()\n",
    "    mask = torch.LongTensor()\n",
    "    n = len(reviews)\n",
    "    for review in reviews:\n",
    "        tokens = tokenizer(\n",
    "            review,\n",
    "            return_tensors='pt',\n",
    "            padding='max_length',\n",
    "            max_length=256,\n",
    "            truncation=True)\n",
    "        input_ids = torch.squeeze(tokens['input_ids'])\n",
    "        attention_mask = torch.squeeze(tokens['attention_mask'])\n",
    "        ids = torch.cat((ids ,input_ids),dim=0)\n",
    "        mask = torch.cat((mask, attention_mask),dim=0)\n",
    "    ids = ids.view(n,-1).type(torch.LongTensor)\n",
    "    mask = mask.view(n,-1).type(torch.LongTensor)\n",
    "    reviews_inputs = dict(input_ids=ids, attention_mask=mask)\n",
    "    model.eval()\n",
    "    reviews_inputs['input_ids'] = reviews_inputs['input_ids'].to(device)\n",
    "    reviews_inputs['attention_mask'] = reviews_inputs['attention_mask'].to(device)\n",
    "    outputs = model(reviews_inputs)\n",
    "    return outputs.detach().cpu().numpy()"
   ]
  },
  {
   "cell_type": "code",
   "execution_count": 9,
   "id": "e9778a4a",
   "metadata": {},
   "outputs": [],
   "source": [
    "unique_drugs, freq_drugs = np.unique(test.drug_name.values, return_counts=True)"
   ]
  },
  {
   "cell_type": "code",
   "execution_count": 10,
   "id": "ddefb609",
   "metadata": {},
   "outputs": [
    {
     "data": {
      "text/plain": [
       "2637"
      ]
     },
     "execution_count": 10,
     "metadata": {},
     "output_type": "execute_result"
    }
   ],
   "source": [
    "len(unique_drugs)"
   ]
  },
  {
   "cell_type": "code",
   "execution_count": 11,
   "id": "db7b4d5d",
   "metadata": {},
   "outputs": [],
   "source": [
    "def get_freq(x_number):\n",
    "    x = np.random.randint(low=0, high=2130)\n",
    "    val= freq_drugs[x]\n",
    "    while val < x_number:\n",
    "        x = np.random.randint(low=0, high=2130)\n",
    "        val = freq_drugs[x]\n",
    "        drug = unique_drugs[x]\n",
    "    print(val, drug)"
   ]
  },
  {
   "cell_type": "code",
   "execution_count": 12,
   "id": "b1b368f7",
   "metadata": {},
   "outputs": [
    {
     "name": "stdout",
     "output_type": "stream",
     "text": [
      "53 moviprep\n"
     ]
    }
   ],
   "source": [
    "get_freq(20)"
   ]
  },
  {
   "cell_type": "markdown",
   "id": "cd53a328",
   "metadata": {},
   "source": [
    "Get reviews by drug: "
   ]
  },
  {
   "cell_type": "code",
   "execution_count": 13,
   "id": "51b36102",
   "metadata": {},
   "outputs": [],
   "source": [
    "# First get rating 1 and 10\n",
    "test = test[(test.rating == 1) | (test.rating == 10)]\n",
    "test['rating'] = np.where(test.rating < 5, 0,1)\n",
    "rev_drug = test[test.drug_name == 'restoril']\n",
    "revws = rev_drug.review.values"
   ]
  },
  {
   "cell_type": "code",
   "execution_count": 14,
   "id": "37b420f5",
   "metadata": {},
   "outputs": [
    {
     "data": {
      "text/html": [
       "<div>\n",
       "<style scoped>\n",
       "    .dataframe tbody tr th:only-of-type {\n",
       "        vertical-align: middle;\n",
       "    }\n",
       "\n",
       "    .dataframe tbody tr th {\n",
       "        vertical-align: top;\n",
       "    }\n",
       "\n",
       "    .dataframe thead th {\n",
       "        text-align: right;\n",
       "    }\n",
       "</style>\n",
       "<table border=\"1\" class=\"dataframe\">\n",
       "  <thead>\n",
       "    <tr style=\"text-align: right;\">\n",
       "      <th></th>\n",
       "      <th>drug_name</th>\n",
       "      <th>condition</th>\n",
       "      <th>review</th>\n",
       "      <th>rating</th>\n",
       "      <th>useful_count</th>\n",
       "    </tr>\n",
       "  </thead>\n",
       "  <tbody>\n",
       "    <tr>\n",
       "      <th>178</th>\n",
       "      <td>restoril</td>\n",
       "      <td>insomnia</td>\n",
       "      <td>Due to major anxiety and stress can&amp;#039;t sle...</td>\n",
       "      <td>0</td>\n",
       "      <td>23</td>\n",
       "    </tr>\n",
       "    <tr>\n",
       "      <th>8480</th>\n",
       "      <td>restoril</td>\n",
       "      <td>insomnia</td>\n",
       "      <td>This medicine helps me relax won&amp;#039;t feel d...</td>\n",
       "      <td>1</td>\n",
       "      <td>43</td>\n",
       "    </tr>\n",
       "    <tr>\n",
       "      <th>11794</th>\n",
       "      <td>restoril</td>\n",
       "      <td>insomnia</td>\n",
       "      <td>I took this medicine for the first time last n...</td>\n",
       "      <td>0</td>\n",
       "      <td>10</td>\n",
       "    </tr>\n",
       "    <tr>\n",
       "      <th>12713</th>\n",
       "      <td>restoril</td>\n",
       "      <td>insomnia</td>\n",
       "      <td>Temazapam is the only med that treats my insom...</td>\n",
       "      <td>1</td>\n",
       "      <td>79</td>\n",
       "    </tr>\n",
       "    <tr>\n",
       "      <th>24758</th>\n",
       "      <td>restoril</td>\n",
       "      <td>insomnia</td>\n",
       "      <td>I feel like I&amp;#039;ve been on very sleeping ai...</td>\n",
       "      <td>1</td>\n",
       "      <td>75</td>\n",
       "    </tr>\n",
       "    <tr>\n",
       "      <th>25381</th>\n",
       "      <td>restoril</td>\n",
       "      <td>insomnia</td>\n",
       "      <td>I could easily fall asleep within 10-15 minute...</td>\n",
       "      <td>1</td>\n",
       "      <td>124</td>\n",
       "    </tr>\n",
       "    <tr>\n",
       "      <th>34726</th>\n",
       "      <td>restoril</td>\n",
       "      <td>insomnia</td>\n",
       "      <td>I was prescribed this medication yesterday aft...</td>\n",
       "      <td>0</td>\n",
       "      <td>77</td>\n",
       "    </tr>\n",
       "    <tr>\n",
       "      <th>35175</th>\n",
       "      <td>restoril</td>\n",
       "      <td>insomnia</td>\n",
       "      <td>Restoril helps me get to sleep and helps preve...</td>\n",
       "      <td>1</td>\n",
       "      <td>47</td>\n",
       "    </tr>\n",
       "    <tr>\n",
       "      <th>38309</th>\n",
       "      <td>restoril</td>\n",
       "      <td>insomnia</td>\n",
       "      <td>I have been taking Restoril for 2 weeks now wi...</td>\n",
       "      <td>0</td>\n",
       "      <td>35</td>\n",
       "    </tr>\n",
       "    <tr>\n",
       "      <th>45543</th>\n",
       "      <td>restoril</td>\n",
       "      <td>insomnia</td>\n",
       "      <td>This is the best sleeping pill I&amp;#039;ve ever ...</td>\n",
       "      <td>1</td>\n",
       "      <td>208</td>\n",
       "    </tr>\n",
       "    <tr>\n",
       "      <th>47060</th>\n",
       "      <td>restoril</td>\n",
       "      <td>insomnia</td>\n",
       "      <td>Best I&amp;#039;ve had for insomnia.</td>\n",
       "      <td>1</td>\n",
       "      <td>43</td>\n",
       "    </tr>\n",
       "    <tr>\n",
       "      <th>47728</th>\n",
       "      <td>restoril</td>\n",
       "      <td>insomnia</td>\n",
       "      <td>I have used this medicine for 7 years and it w...</td>\n",
       "      <td>1</td>\n",
       "      <td>45</td>\n",
       "    </tr>\n",
       "  </tbody>\n",
       "</table>\n",
       "</div>"
      ],
      "text/plain": [
       "      drug_name condition                                             review  \\\n",
       "178    restoril  insomnia  Due to major anxiety and stress can&#039;t sle...   \n",
       "8480   restoril  insomnia  This medicine helps me relax won&#039;t feel d...   \n",
       "11794  restoril  insomnia  I took this medicine for the first time last n...   \n",
       "12713  restoril  insomnia  Temazapam is the only med that treats my insom...   \n",
       "24758  restoril  insomnia  I feel like I&#039;ve been on very sleeping ai...   \n",
       "25381  restoril  insomnia  I could easily fall asleep within 10-15 minute...   \n",
       "34726  restoril  insomnia  I was prescribed this medication yesterday aft...   \n",
       "35175  restoril  insomnia  Restoril helps me get to sleep and helps preve...   \n",
       "38309  restoril  insomnia  I have been taking Restoril for 2 weeks now wi...   \n",
       "45543  restoril  insomnia  This is the best sleeping pill I&#039;ve ever ...   \n",
       "47060  restoril  insomnia                   Best I&#039;ve had for insomnia.   \n",
       "47728  restoril  insomnia  I have used this medicine for 7 years and it w...   \n",
       "\n",
       "       rating  useful_count  \n",
       "178         0            23  \n",
       "8480        1            43  \n",
       "11794       0            10  \n",
       "12713       1            79  \n",
       "24758       1            75  \n",
       "25381       1           124  \n",
       "34726       0            77  \n",
       "35175       1            47  \n",
       "38309       0            35  \n",
       "45543       1           208  \n",
       "47060       1            43  \n",
       "47728       1            45  "
      ]
     },
     "execution_count": 14,
     "metadata": {},
     "output_type": "execute_result"
    }
   ],
   "source": [
    "rev_drug"
   ]
  },
  {
   "cell_type": "code",
   "execution_count": 15,
   "id": "aa2907a2",
   "metadata": {},
   "outputs": [],
   "source": [
    "probs = batch_predict(revws)"
   ]
  },
  {
   "cell_type": "code",
   "execution_count": 16,
   "id": "cd43c26d",
   "metadata": {},
   "outputs": [
    {
     "data": {
      "text/plain": [
       "(12, 2)"
      ]
     },
     "execution_count": 16,
     "metadata": {},
     "output_type": "execute_result"
    }
   ],
   "source": [
    "probs.shape"
   ]
  },
  {
   "cell_type": "code",
   "execution_count": 17,
   "id": "2ab2f38f",
   "metadata": {},
   "outputs": [
    {
     "data": {
      "text/plain": [
       "array([0.21326236, 0.72694135], dtype=float32)"
      ]
     },
     "execution_count": 17,
     "metadata": {},
     "output_type": "execute_result"
    }
   ],
   "source": [
    "probs[7]"
   ]
  },
  {
   "cell_type": "code",
   "execution_count": 18,
   "id": "27aa6a0a",
   "metadata": {},
   "outputs": [
    {
     "name": "stdout",
     "output_type": "stream",
     "text": [
      "Document id: 7\n",
      "Probability(positive) = 0.7269413\n",
      "True class: positive\n"
     ]
    }
   ],
   "source": [
    "idx = 7\n",
    "class_names = [\"negative\", \"positive\"]\n",
    "explainer = LimeTextExplainer(class_names=class_names)\n",
    "exp = explainer.explain_instance(revws[idx], batch_predict, num_samples=200 ,num_features=6)\n",
    "print('Document id: %d' % idx)\n",
    "print('Probability(positive) =', batch_predict([revws[idx]])[0,1])\n",
    "print('True class: %s' % class_names[rev_drug.rating.iloc[idx]] )"
   ]
  },
  {
   "cell_type": "code",
   "execution_count": 19,
   "id": "1c90676d",
   "metadata": {},
   "outputs": [
    {
     "data": {
      "text/plain": [
       "[('helps', 0.19044115079969853),\n",
       " ('no', 0.12514235480081307),\n",
       " ('side', 0.057565135283629845),\n",
       " ('have', 0.05241235545698793),\n",
       " ('me', -0.05064154557475502),\n",
       " ('prevent', -0.036142379420220146)]"
      ]
     },
     "execution_count": 19,
     "metadata": {},
     "output_type": "execute_result"
    }
   ],
   "source": [
    "exp.as_list()"
   ]
  }
 ],
 "metadata": {
  "kernelspec": {
   "display_name": "Python 3 (ipykernel)",
   "language": "python",
   "name": "python3"
  },
  "language_info": {
   "codemirror_mode": {
    "name": "ipython",
    "version": 3
   },
   "file_extension": ".py",
   "mimetype": "text/x-python",
   "name": "python",
   "nbconvert_exporter": "python",
   "pygments_lexer": "ipython3",
   "version": "3.11.4"
  }
 },
 "nbformat": 4,
 "nbformat_minor": 5
}
