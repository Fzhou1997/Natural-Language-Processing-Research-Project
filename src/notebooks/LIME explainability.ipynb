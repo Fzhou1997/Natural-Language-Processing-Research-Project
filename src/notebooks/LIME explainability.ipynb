{
 "cells": [
  {
   "cell_type": "code",
   "execution_count": 1,
   "id": "74e1e49d",
   "metadata": {},
   "outputs": [
    {
     "name": "stderr",
     "output_type": "stream",
     "text": [
      "2024-04-16 18:20:48.655461: I tensorflow/core/platform/cpu_feature_guard.cc:182] This TensorFlow binary is optimized to use available CPU instructions in performance-critical operations.\n",
      "To enable the following instructions: AVX2 FMA, in other operations, rebuild TensorFlow with the appropriate compiler flags.\n",
      "/Users/barajascervantes.a/miniconda3/envs/islp/lib/python3.11/site-packages/tqdm/auto.py:21: TqdmWarning: IProgress not found. Please update jupyter and ipywidgets. See https://ipywidgets.readthedocs.io/en/stable/user_install.html\n",
      "  from .autonotebook import tqdm as notebook_tqdm\n",
      "/Users/barajascervantes.a/miniconda3/envs/islp/lib/python3.11/site-packages/transformers/utils/generic.py:441: UserWarning: torch.utils._pytree._register_pytree_node is deprecated. Please use torch.utils._pytree.register_pytree_node instead.\n",
      "  _torch_pytree._register_pytree_node(\n"
     ]
    }
   ],
   "source": [
    "import classification as clf\n",
    "import regression as rf\n",
    "import torch\n",
    "import numpy as np\n",
    "import pandas as pd\n",
    "import lime\n",
    "from torch.utils.tensorboard import SummaryWriter\n",
    "from datetime import datetime\n",
    "from lime import lime_text\n",
    "\n",
    "from lime.lime_text import LimeTextExplainer\n",
    "\n",
    "import torch\n",
    "import torch.nn as nn\n",
    "import torch.nn.functional as F\n",
    "from torch.utils.data import Dataset, DataLoader\n",
    "\n",
    "from transformers import AutoTokenizer, AutoModel"
   ]
  },
  {
   "cell_type": "code",
   "execution_count": 35,
   "id": "79218521",
   "metadata": {},
   "outputs": [],
   "source": [
    "FILEPATH_TRAIN = '../res/train.csv'\n",
    "FILEPATH_TEST = '../res/test.csv'\n",
    "\n",
    "MAX_LENGTH = 256\n",
    "BATCH_SIZE = 64\n",
    "\n",
    "train =clf.load_dataframe(FILEPATH_TRAIN) \n",
    "test = clf.load_dataframe(FILEPATH_TEST)"
   ]
  },
  {
   "cell_type": "code",
   "execution_count": 3,
   "id": "8f42a544",
   "metadata": {},
   "outputs": [
    {
     "name": "stdout",
     "output_type": "stream",
     "text": [
      "Using cpu device\n"
     ]
    }
   ],
   "source": [
    " device = (\n",
    "        'cuda'\n",
    "        if torch.cuda.is_available()\n",
    "        else 'cpu'\n",
    "    )\n",
    "print(f'Using {device} device')"
   ]
  },
  {
   "cell_type": "code",
   "execution_count": 4,
   "id": "1010c9d2",
   "metadata": {},
   "outputs": [],
   "source": [
    "tokenizer = AutoTokenizer.from_pretrained('bert-base-uncased')"
   ]
  },
  {
   "cell_type": "code",
   "execution_count": 5,
   "id": "1e8ba570",
   "metadata": {},
   "outputs": [
    {
     "name": "stdout",
     "output_type": "stream",
     "text": [
      "72608 training samples loaded\n",
      "24315 testing samples loaded\n"
     ]
    },
    {
     "name": "stderr",
     "output_type": "stream",
     "text": [
      "/Users/barajascervantes.a/miniconda3/envs/islp/lib/python3.11/site-packages/transformers/utils/generic.py:309: UserWarning: torch.utils._pytree._register_pytree_node is deprecated. Please use torch.utils._pytree.register_pytree_node instead.\n",
      "  _torch_pytree._register_pytree_node(\n",
      "/Users/barajascervantes.a/miniconda3/envs/islp/lib/python3.11/site-packages/transformers/utils/generic.py:309: UserWarning: torch.utils._pytree._register_pytree_node is deprecated. Please use torch.utils._pytree.register_pytree_node instead.\n",
      "  _torch_pytree._register_pytree_node(\n"
     ]
    }
   ],
   "source": [
    "train_dataset = clf.ReviewDataset(FILEPATH_TRAIN, tokenizer)\n",
    "print(f'{len(train_dataset)} training samples loaded')\n",
    "\n",
    "test_dataset = clf.ReviewDataset(FILEPATH_TEST, tokenizer)\n",
    "print(f'{len(test_dataset)} testing samples loaded')\n",
    "\n",
    "train_dataloader = DataLoader(train_dataset, batch_size=BATCH_SIZE)\n",
    "test_dataloader = DataLoader(test_dataset, batch_size=BATCH_SIZE)\n",
    "\n",
    "model = clf.RatingModel(hidden_size=1_000).to(device)"
   ]
  },
  {
   "cell_type": "code",
   "execution_count": 6,
   "id": "0df990aa",
   "metadata": {},
   "outputs": [
    {
     "name": "stdout",
     "output_type": "stream",
     "text": [
      "RatingModel(\n",
      "  (bert): BertModel(\n",
      "    (embeddings): BertEmbeddings(\n",
      "      (word_embeddings): Embedding(30522, 768, padding_idx=0)\n",
      "      (position_embeddings): Embedding(512, 768)\n",
      "      (token_type_embeddings): Embedding(2, 768)\n",
      "      (LayerNorm): LayerNorm((768,), eps=1e-12, elementwise_affine=True)\n",
      "      (dropout): Dropout(p=0.1, inplace=False)\n",
      "    )\n",
      "    (encoder): BertEncoder(\n",
      "      (layer): ModuleList(\n",
      "        (0-11): 12 x BertLayer(\n",
      "          (attention): BertAttention(\n",
      "            (self): BertSelfAttention(\n",
      "              (query): Linear(in_features=768, out_features=768, bias=True)\n",
      "              (key): Linear(in_features=768, out_features=768, bias=True)\n",
      "              (value): Linear(in_features=768, out_features=768, bias=True)\n",
      "              (dropout): Dropout(p=0.1, inplace=False)\n",
      "            )\n",
      "            (output): BertSelfOutput(\n",
      "              (dense): Linear(in_features=768, out_features=768, bias=True)\n",
      "              (LayerNorm): LayerNorm((768,), eps=1e-12, elementwise_affine=True)\n",
      "              (dropout): Dropout(p=0.1, inplace=False)\n",
      "            )\n",
      "          )\n",
      "          (intermediate): BertIntermediate(\n",
      "            (dense): Linear(in_features=768, out_features=3072, bias=True)\n",
      "            (intermediate_act_fn): GELUActivation()\n",
      "          )\n",
      "          (output): BertOutput(\n",
      "            (dense): Linear(in_features=3072, out_features=768, bias=True)\n",
      "            (LayerNorm): LayerNorm((768,), eps=1e-12, elementwise_affine=True)\n",
      "            (dropout): Dropout(p=0.1, inplace=False)\n",
      "          )\n",
      "        )\n",
      "      )\n",
      "    )\n",
      "    (pooler): BertPooler(\n",
      "      (dense): Linear(in_features=768, out_features=768, bias=True)\n",
      "      (activation): Tanh()\n",
      "    )\n",
      "  )\n",
      "  (linear1): Linear(in_features=768, out_features=512, bias=True)\n",
      "  (linear2): Linear(in_features=512, out_features=256, bias=True)\n",
      "  (linear3): Linear(in_features=256, out_features=64, bias=True)\n",
      "  (linear4): Linear(in_features=64, out_features=2, bias=True)\n",
      ")\n"
     ]
    }
   ],
   "source": [
    "print(model)"
   ]
  },
  {
   "cell_type": "code",
   "execution_count": 7,
   "id": "a879b77e",
   "metadata": {},
   "outputs": [
    {
     "data": {
      "text/plain": [
       "<All keys matched successfully>"
      ]
     },
     "execution_count": 7,
     "metadata": {},
     "output_type": "execute_result"
    }
   ],
   "source": [
    "PATH_BINARY = \"./binaryclass_model_20240414_103223_8\"\n",
    "model.load_state_dict(torch.load(PATH_BINARY,map_location=torch.device('cpu')))"
   ]
  },
  {
   "cell_type": "code",
   "execution_count": 8,
   "id": "1e581261",
   "metadata": {},
   "outputs": [],
   "source": [
    "def batch_predict(reviews):\n",
    "    tokenizer = AutoTokenizer.from_pretrained('bert-base-uncased')\n",
    "    reviews_inputs = {}\n",
    "    ids = torch.LongTensor()\n",
    "    mask = torch.LongTensor()\n",
    "    n = len(reviews)\n",
    "    for review in reviews:\n",
    "        tokens = tokenizer(\n",
    "            review,\n",
    "            return_tensors='pt',\n",
    "            padding='max_length',\n",
    "            max_length=256,\n",
    "            truncation=True)\n",
    "        input_ids = torch.squeeze(tokens['input_ids'])\n",
    "        attention_mask = torch.squeeze(tokens['attention_mask'])\n",
    "        ids = torch.cat((ids ,input_ids),dim=0)\n",
    "        mask = torch.cat((mask, attention_mask),dim=0)\n",
    "    ids = ids.view(n,-1).type(torch.LongTensor)\n",
    "    mask = mask.view(n,-1).type(torch.LongTensor)\n",
    "    reviews_inputs = dict(input_ids=ids, attention_mask=mask)\n",
    "    model.eval()\n",
    "    reviews_inputs['input_ids'] = reviews_inputs['input_ids'].to(device)\n",
    "    reviews_inputs['attention_mask'] = reviews_inputs['attention_mask'].to(device)\n",
    "    outputs = model(reviews_inputs)\n",
    "    return outputs.detach().cpu().numpy()"
   ]
  },
  {
   "cell_type": "code",
   "execution_count": 9,
   "id": "e9778a4a",
   "metadata": {},
   "outputs": [],
   "source": [
    "unique_drugs, freq_drugs = np.unique(test.drug_name.values, return_counts=True)"
   ]
  },
  {
   "cell_type": "code",
   "execution_count": 10,
   "id": "ddefb609",
   "metadata": {},
   "outputs": [
    {
     "data": {
      "text/plain": [
       "2637"
      ]
     },
     "execution_count": 10,
     "metadata": {},
     "output_type": "execute_result"
    }
   ],
   "source": [
    "len(unique_drugs)"
   ]
  },
  {
   "cell_type": "code",
   "execution_count": 11,
   "id": "db7b4d5d",
   "metadata": {},
   "outputs": [],
   "source": [
    "def get_freq(x_number):\n",
    "    x = np.random.randint(low=0, high=2130)\n",
    "    val= freq_drugs[x]\n",
    "    while val < x_number:\n",
    "        x = np.random.randint(low=0, high=2130)\n",
    "        val = freq_drugs[x]\n",
    "        drug = unique_drugs[x]\n",
    "    print(val, drug)"
   ]
  },
  {
   "cell_type": "code",
   "execution_count": 12,
   "id": "b1b368f7",
   "metadata": {},
   "outputs": [
    {
     "name": "stdout",
     "output_type": "stream",
     "text": [
      "39 pramipexole\n"
     ]
    }
   ],
   "source": [
    "get_freq(20)"
   ]
  },
  {
   "cell_type": "markdown",
   "id": "cd53a328",
   "metadata": {},
   "source": [
    "Get reviews by drug: "
   ]
  },
  {
   "cell_type": "code",
   "execution_count": 36,
   "id": "51b36102",
   "metadata": {},
   "outputs": [],
   "source": [
    "# First get rating 1 and 10\n",
    "test = test[(test.rating == 1) | (test.rating == 10)]\n",
    "test['rating'] = np.where(test.rating < 5, 0,1)\n",
    "rev_drug = test[test.drug_name == 'restoril']\n",
    "revws = rev_drug.review.values"
   ]
  },
  {
   "cell_type": "code",
   "execution_count": 39,
   "id": "6a8692c2",
   "metadata": {},
   "outputs": [
    {
     "data": {
      "text/plain": [
       "(12,)"
      ]
     },
     "execution_count": 39,
     "metadata": {},
     "output_type": "execute_result"
    }
   ],
   "source": [
    "revws.shape"
   ]
  },
  {
   "cell_type": "code",
   "execution_count": 15,
   "id": "aa2907a2",
   "metadata": {},
   "outputs": [],
   "source": [
    "probs = batch_predict(revws)"
   ]
  },
  {
   "cell_type": "code",
   "execution_count": 16,
   "id": "cd43c26d",
   "metadata": {},
   "outputs": [
    {
     "data": {
      "text/plain": [
       "(12, 2)"
      ]
     },
     "execution_count": 16,
     "metadata": {},
     "output_type": "execute_result"
    }
   ],
   "source": [
    "probs.shape"
   ]
  },
  {
   "cell_type": "code",
   "execution_count": 17,
   "id": "2ab2f38f",
   "metadata": {},
   "outputs": [
    {
     "data": {
      "text/plain": [
       "array([0.21326236, 0.72694135], dtype=float32)"
      ]
     },
     "execution_count": 17,
     "metadata": {},
     "output_type": "execute_result"
    }
   ],
   "source": [
    "probs[7]"
   ]
  },
  {
   "cell_type": "code",
   "execution_count": 77,
   "id": "19738fae",
   "metadata": {},
   "outputs": [],
   "source": [
    "def get_explainability(idx, reviews, batch_predict ,num_samples=200 ,num_features=10):\n",
    "    class_names = [\"negative\", \"positive\"]\n",
    "    revws = reviews.review.values\n",
    "    explainer = LimeTextExplainer(class_names=class_names)\n",
    "    exp = explainer.explain_instance(revws[idx], batch_predict, num_samples=num_samples,num_features=num_features)\n",
    "    print('Review to explain: \\n', revws[idx])\n",
    "    print('Document id: %d' % idx)\n",
    "    print('Probability(positive) =', batch_predict([revws[idx]])[0,1])\n",
    "    print('True class: %s' % class_names[reviews.rating.iloc[idx]] )\n",
    "    %matplotlib inline\n",
    "    fig = exp.as_pyplot_figure()\n",
    "    return exp.as_list()"
   ]
  },
  {
   "cell_type": "code",
   "execution_count": 72,
   "id": "423245fe",
   "metadata": {},
   "outputs": [],
   "source": [
    "def get_explainability_custom(idx, reviews, list_words ,batch_predict ,num_samples=200 ,num_features=10):\n",
    "    class_names = [\"negative\", \"positive\"]\n",
    "    revws = reviews.review.values\n",
    "    tokens = reviews.review.iloc[idx].split()\n",
    "    review_removed = [word for word in tokens if not word in list_words_remove]\n",
    "    review_removed = ' '.join(review_removed)\n",
    "    explainer = LimeTextExplainer(class_names=class_names)\n",
    "    exp = explainer.explain_instance(review_removed, batch_predict, num_samples=num_samples,num_features=num_features)\n",
    "    print('Review to explain: \\n', review_removed)\n",
    "    print('Document id: %d' % idx)\n",
    "    print('Probability(positive) =', batch_predict([review_removed])[0,1])\n",
    "    print('True class: %s' % class_names[reviews.rating.iloc[idx]] )\n",
    "    return exp.as_list()"
   ]
  },
  {
   "cell_type": "markdown",
   "id": "598827b0",
   "metadata": {},
   "source": [
    "Checking a positive label"
   ]
  },
  {
   "cell_type": "code",
   "execution_count": 78,
   "id": "2f5236f9",
   "metadata": {},
   "outputs": [
    {
     "name": "stdout",
     "output_type": "stream",
     "text": [
      "Review to explain: \n",
      " Restoril helps me get to sleep and helps prevent me from waking up constantly during the night. I have had no side-effects from Restoril.\n",
      "Document id: 7\n",
      "Probability(positive) = 0.7269413\n",
      "True class: positive\n"
     ]
    },
    {
     "data": {
      "image/png": "[encoded data removed]",
      "text/plain": [
       "<Figure size 640x480 with 1 Axes>"
      ]
     },
     "metadata": {},
     "output_type": "display_data"
    }
   ],
   "source": [
    "words = get_explainability(7,rev_drug, batch_predict)"
   ]
  },
  {
   "cell_type": "code",
   "execution_count": 79,
   "id": "65d4e22b",
   "metadata": {},
   "outputs": [
    {
     "data": {
      "text/plain": [
       "[('helps', 0.14835507825473665),\n",
       " ('side', 0.09054582944517148),\n",
       " ('have', 0.08783081903674325),\n",
       " ('night', 0.06710881615652728),\n",
       " ('effects', 0.05830292752097214),\n",
       " ('prevent', -0.04892548947884719),\n",
       " ('no', 0.03414494391143955),\n",
       " ('the', -0.0325692199736344),\n",
       " ('waking', 0.017754470583109017),\n",
       " ('to', 0.015770395996287326)]"
      ]
     },
     "execution_count": 79,
     "metadata": {},
     "output_type": "execute_result"
    }
   ],
   "source": [
    "words"
   ]
  },
  {
   "cell_type": "markdown",
   "id": "77346703",
   "metadata": {},
   "source": [
    "What if we take the positive weight words from the review, then the probability to be positive classs reduces."
   ]
  },
  {
   "cell_type": "code",
   "execution_count": 75,
   "id": "e4ca024f",
   "metadata": {},
   "outputs": [
    {
     "name": "stdout",
     "output_type": "stream",
     "text": [
      "Review to explain: \n",
      " me get to and prevent me from waking up constantly during the night. I have had side-effects from Restoril.\n",
      "Document id: 7\n",
      "Probability(positive) = 0.4204538\n",
      "True class: positive\n"
     ]
    }
   ],
   "source": [
    "# rid of positive weight words\n",
    "list_words_remove = ['no','helps','Restoril','night','sleep']\n",
    "words = get_explainability_custom(7,rev_drug,list_words_remove, batch_predict)"
   ]
  },
  {
   "cell_type": "markdown",
   "id": "e723b2e2",
   "metadata": {},
   "source": [
    "What if we take the negative weight words from the review..."
   ]
  },
  {
   "cell_type": "code",
   "execution_count": 80,
   "id": "bbe59684",
   "metadata": {},
   "outputs": [
    {
     "name": "stdout",
     "output_type": "stream",
     "text": [
      "Review to explain: \n",
      " Restoril helps me get to sleep and helps me from waking up constantly during night. I have had no side-effects from Restoril.\n",
      "Document id: 7\n",
      "Probability(positive) = 0.800294\n",
      "True class: positive\n"
     ]
    }
   ],
   "source": [
    "# rid of negative weight words\n",
    "list_words_remove = ['prevent','the']\n",
    "words = get_explainability_custom(7,rev_drug,list_words_remove, batch_predict)"
   ]
  },
  {
   "cell_type": "markdown",
   "id": "520d2683",
   "metadata": {},
   "source": [
    "Checking a negative label from the same drug"
   ]
  },
  {
   "cell_type": "code",
   "execution_count": 81,
   "id": "5d1b440a",
   "metadata": {},
   "outputs": [
    {
     "name": "stdout",
     "output_type": "stream",
     "text": [
      "Review to explain: \n",
      " Due to major anxiety and stress can&#039;t sleep before 6-7:30am was put on anti-anxiety pill and Restoril today.  The anti-anxiety pill kicked in fast and made me kinda drowsy but the Restoril 30mg I just took 45 min ago doesn&#039;t seem to be kicking in.  \n",
      "\n",
      "Should I take another?  I do drink ale here and there but that should increase my effect not stop it right?  \n",
      "Maybe I should get used to Vampire hours!! This sucks lol\n",
      "Document id: 0\n",
      "Probability(positive) = 0.4184363\n",
      "True class: negative\n"
     ]
    },
    {
     "data": {
      "image/png": "[encoded data removed]",
      "text/plain": [
       "<Figure size 640x480 with 1 Axes>"
      ]
     },
     "metadata": {},
     "output_type": "display_data"
    }
   ],
   "source": [
    "words_6 = get_explainability(0,rev_drug, batch_predict)"
   ]
  },
  {
   "cell_type": "code",
   "execution_count": 82,
   "id": "221dc5df",
   "metadata": {},
   "outputs": [
    {
     "data": {
      "text/plain": [
       "[('sucks', -0.07357054810615375),\n",
       " ('lol', 0.07223382541395963),\n",
       " ('This', -0.06241851711159419),\n",
       " ('Restoril', 0.05514625728319646),\n",
       " ('but', 0.051661716523048865),\n",
       " ('039', 0.0440422873066826),\n",
       " ('t', -0.03963942984835804),\n",
       " ('major', -0.034415931210943815),\n",
       " ('should', -0.027305197885713197),\n",
       " ('effect', 0.022002822487604864)]"
      ]
     },
     "execution_count": 82,
     "metadata": {},
     "output_type": "execute_result"
    }
   ],
   "source": [
    "words_6"
   ]
  },
  {
   "cell_type": "code",
   "execution_count": 83,
   "id": "f9844a83",
   "metadata": {},
   "outputs": [
    {
     "name": "stdout",
     "output_type": "stream",
     "text": [
      "Review to explain: \n",
      " Due to major anxiety and stress can&#039;t sleep before 6-7:30am was put on anti-anxiety pill and today. The anti-anxiety pill kicked in fast and made me kinda drowsy the 30mg I just took 45 min ago doesn&#039;t seem to be kicking in. Should I take another? I do drink ale here and there that should increase my not stop it right? Maybe I should get used to Vampire hours!! This sucks\n",
      "Document id: 0\n",
      "Probability(positive) = 0.16165403\n",
      "True class: negative\n"
     ]
    }
   ],
   "source": [
    "# rid of positive weight words\n",
    "list_words_remove = ['lol','but','Restoril','effect']\n",
    "words = get_explainability_custom(0,rev_drug,list_words_remove, batch_predict)"
   ]
  },
  {
   "cell_type": "code",
   "execution_count": 84,
   "id": "754ad7e4",
   "metadata": {},
   "outputs": [
    {
     "name": "stdout",
     "output_type": "stream",
     "text": [
      "Review to explain: \n",
      " Due to anxiety and stress can&#039;t sleep before 6-7:30am was put on anti-anxiety pill and Restoril today. The anti-anxiety pill kicked in fast and made me kinda drowsy but the Restoril 30mg I just took 45 min ago doesn&#039;t seem to be kicking in. Should I take another? I do drink ale here and there but that increase my effect not stop it right? Maybe I get used to Vampire hours!! lol\n",
      "Document id: 0\n",
      "Probability(positive) = 0.568886\n",
      "True class: negative\n"
     ]
    }
   ],
   "source": [
    "# rid of negative weight words\n",
    "list_words_remove = ['sucks','This','major','should']\n",
    "words = get_explainability_custom(0,rev_drug,list_words_remove, batch_predict)"
   ]
  }
 ],
 "metadata": {
  "kernelspec": {
   "display_name": "Python 3 (ipykernel)",
   "language": "python",
   "name": "python3"
  },
  "language_info": {
   "codemirror_mode": {
    "name": "ipython",
    "version": 3
   },
   "file_extension": ".py",
   "mimetype": "text/x-python",
   "name": "python",
   "nbconvert_exporter": "python",
   "pygments_lexer": "ipython3",
   "version": "3.11.4"
  }
 },
 "nbformat": 4,
 "nbformat_minor": 5
}
