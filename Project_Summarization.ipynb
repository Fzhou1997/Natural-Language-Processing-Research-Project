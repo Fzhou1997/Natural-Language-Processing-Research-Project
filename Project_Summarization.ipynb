{
  "nbformat": 4,
  "nbformat_minor": 0,
  "metadata": {
    "colab": {
      "provenance": [],
      "gpuType": "T4"
    },
    "kernelspec": {
      "name": "python3",
      "display_name": "Python 3"
    },
    "language_info": {
      "name": "python"
    },
    "accelerator": "GPU"
  },
  "cells": [
    {
      "cell_type": "markdown",
      "source": [
        "## Drug Review Summarization Implementation"
      ],
      "metadata": {
        "id": "vrk9rvqbU247"
      }
    },
    {
      "cell_type": "code",
      "execution_count": 22,
      "metadata": {
        "id": "gqP6l5sATM4N"
      },
      "outputs": [],
      "source": [
        "# !pip3 install transformers==2.2.0\n",
        "# !pip3 install bert-extractive-summarizer"
      ]
    },
    {
      "cell_type": "code",
      "source": [
        "# !pip3 install --upgrade pip setuptools"
      ],
      "metadata": {
        "id": "9g3hHd0NVgIP"
      },
      "execution_count": 23,
      "outputs": []
    },
    {
      "cell_type": "code",
      "source": [
        "# !pip3 install regex\n",
        "# !pip3 install cymem\n",
        "# !pip3 install murmurhash\n",
        "# !pip3 install preshed\n",
        "# !pip3 install thinc\n",
        "# !pip3 install cytoolz"
      ],
      "metadata": {
        "id": "uxDNIMqyTrnH"
      },
      "execution_count": 24,
      "outputs": []
    },
    {
      "cell_type": "code",
      "source": [
        "# !pip3 install transformers --upgrade\n",
        "# !pip3 install torch"
      ],
      "metadata": {
        "id": "Iq45L7ixdG2C"
      },
      "execution_count": null,
      "outputs": []
    },
    {
      "cell_type": "code",
      "source": [
        "from summarizer import Summarizer,TransformerSummarizer"
      ],
      "metadata": {
        "id": "zdLMZGASTmLK"
      },
      "execution_count": 25,
      "outputs": []
    },
    {
      "cell_type": "code",
      "source": [
        "body = '''\n",
        "       The company was founded on March 16, 1879, by 23-year-old Robert McNeil, who paid $167 for a drugstore complete with fixtures, inventory and soda fountain, as a retail pharmacy, in the Kensington section of Philadelphia, Pennsylvania, United States. Robert McNeil was a graduate of the Philadelphia College of Pharmacy and Science (University of the Sciences in Philadelphia).[citation needed]\n",
        "In 1904, one of McNeil's sons, Robert Lincoln McNeil, became part of the company and together they created McNeil Laboratories in 1933. The company would focus on direct marketing of prescription drugs to hospitals, pharmacists, and doctors. Development of acetaminophen began under the leadership of Robert L. McNeil, Jr., who later served as the firm's chairman.[2] In 1953 McNeil\n",
        "Laboratories introduced Algoson, a preparation containing acetaminophen together with sodium butabarbital, a sedative. In 1955, McNeil Laboratories introduced Tylenol Elixir for children, containing only acetaminophen.\n",
        "In 1959, Johnson & Johnson acquired McNeil Laboratories and a year later the company was able to sell Tylenol for the first time ever, without a prescription. In 1961, the company moved into its Fort Washington, Pennsylvania headquarters. Along with its Fort Washington plant, McNeil also has plants worldwide.\n",
        "In 1977, two companies were created: McNeil Medical Products and McNeil Consumer Products Company or McNeil Consumer Healthcare. The focus of McNeil Medical Products was to market prescription drugs.\n",
        "Another major development in 1977 was that entrepreneur Alan Kligerman started to market a lactase supplement he originally called LactAid. In early 1991, Kligerman licensed the Lactaid brand (note the change of capitalization) to McNeil. Johnson & Johnson \"poured millions into slick packaging and advertising,\" and turned Lactaid into its fastest-growing brand during the 1990s.[3]\n",
        "In 1993, McNeil Medical Products merged with Ortho Pharmaceutical to form Ortho-McNeil Pharmaceutical.In 2001, McNeil Consumer Healthcare changed its name to McNeil Consumer & Specialty Medical Products. However, it was changed again and is now known as \"McNeil Consumer Healthcare\".\n",
        "In 2018, Johnson & Johnson changed the name of the McNeil facility in Fort Washington, Pennsylvania to Johnson & Johnson Consumer Inc.\n",
        "As part of Procter & Gamble's acquisition of Gillette in 2005, Procter & Gamble's Gillette was required by the Federal Trade Commission to divest itself of Rembrandt toothpaste.[4] Consequently, it sold Rembrandt to Johnson & Johnson's McNeil-PPC division.[4] [5][6][7] That year, Rembrandt had sales that likely exceeded $100 million.[4]\n",
        "The company markets over-the-counter and prescription medical products including complete lines of Tylenol and Motrin IB (ibuprofen) products for adults and children.[citation needed] The company is located in Fort Washington, Pennsylvania, and employs 2,600 people.[citation needed] Annual sales in 2004 were US $2.1 billion. McNeil's Canadian head office is in Markham, Ontario.[citation needed]\n",
        "In September 2022, Johnson & Johnson unveiled the name for its New Consumer Health Company that is being spun off: Kenvue. The name, pronounced ken-view, comes from the English word \"ken,\" which is primarily used on Scotland and means knowledge, and \"vue,\" which references sight. Kenvue, which will become a standalone company in 2023, will include in its portfolio brands such as Band-Aid, Aveeno, Listerine, Tylenol and Neutrogena\n",
        "\n",
        "'''\n",
        "\n",
        "print(len(body))"
      ],
      "metadata": {
        "colab": {
          "base_uri": "https://localhost:8080/"
        },
        "id": "S8zSAJp5Tm5j",
        "outputId": "94714976-96ea-4a21-c485-5f1eb0c5b0a4"
      },
      "execution_count": 34,
      "outputs": [
        {
          "output_type": "stream",
          "name": "stdout",
          "text": [
            "3491\n"
          ]
        }
      ]
    },
    {
      "cell_type": "code",
      "source": [
        "# Import the Data pretty printer Python Module"
      ],
      "metadata": {
        "id": "QYtBd9Aeh1hW"
      },
      "execution_count": null,
      "outputs": []
    },
    {
      "cell_type": "code",
      "source": [
        "import pprint"
      ],
      "metadata": {
        "id": "D7-vUGtegcYP"
      },
      "execution_count": 27,
      "outputs": []
    },
    {
      "cell_type": "code",
      "source": [
        "bert_model = Summarizer()\n",
        "bert_summary = ''.join(bert_model(body, min_length=60))\n",
        "# print(bert_summary)\n",
        "print( f\"Number of words after BERT-Summarizer {len(bert_summary)}\")\n",
        "print()\n",
        "pprint.pp(bert_summary, depth=1, width=60)\n"
      ],
      "metadata": {
        "colab": {
          "base_uri": "https://localhost:8080/"
        },
        "cellView": "code",
        "id": "3fIGXpx7eOnb",
        "outputId": "45e3411a-5d05-4d2b-c9a6-7c7519730439"
      },
      "execution_count": 35,
      "outputs": [
        {
          "output_type": "stream",
          "name": "stdout",
          "text": [
            "Number of words after BERT-Summarizer 719\n",
            "\n",
            "('The company was founded on March 16, 1879, by '\n",
            " '23-year-old Robert McNeil, who paid $167 for a drugstore '\n",
            " 'complete with fixtures, inventory and soda fountain, as '\n",
            " 'a retail pharmacy, in the Kensington section of '\n",
            " 'Philadelphia, Pennsylvania, United States. Development '\n",
            " 'of acetaminophen began under the leadership of Robert L. '\n",
            " \"McNeil, Jr., who later served as the firm's chairman.[2] \"\n",
            " 'In 1953 McNeil \\n'\n",
            " 'Laboratories introduced Algoson, a preparation '\n",
            " 'containing acetaminophen together with sodium '\n",
            " 'butabarbital, a sedative. In 1961, the company moved '\n",
            " 'into its Fort Washington, Pennsylvania headquarters. In '\n",
            " '1977, two companies were created: McNeil Medical '\n",
            " 'Products and McNeil Consumer Products Company or McNeil '\n",
            " 'Consumer Healthcare.')\n"
          ]
        },
        {
          "output_type": "stream",
          "name": "stderr",
          "text": [
            "/usr/local/lib/python3.10/dist-packages/sklearn/cluster/_kmeans.py:870: FutureWarning: The default value of `n_init` will change from 10 to 'auto' in 1.4. Set the value of `n_init` explicitly to suppress the warning\n",
            "  warnings.warn(\n"
          ]
        }
      ]
    }
  ]
}